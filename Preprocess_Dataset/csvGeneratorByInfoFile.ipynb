{
 "cells": [
  {
   "cell_type": "code",
   "execution_count": 1,
   "metadata": {},
   "outputs": [],
   "source": [
    "#coding: utf-8\n",
    "import flickr_api as f\n",
    "import sys\n",
    "import time\n",
    "import datetime\n",
    "import dill\n",
    "import json\n",
    "import gzip\n",
    "import os\n",
    "import csv"
   ]
  },
  {
   "cell_type": "code",
   "execution_count": 3,
   "metadata": {
    "scrolled": true
   },
   "outputs": [],
   "source": [
    "path = '../info/fotos/'  #124229330-34467388955.info esse arquivo esté dando IOError: CRC check\n",
    "files = os.listdir(path)\n",
    "infoFotos = []\n",
    "runtimeError= []\n",
    "eofError= []\n",
    "IOError = []\n",
    "lastFiles = []\n",
    "for fileFoto in files:\n",
    "    try:\n",
    "        lastFiles.append(fileFoto)\n",
    "        handle = gzip.open(path+fileFoto, 'rb')\n",
    "        infoFotos += dill.load(handle)\n",
    "        handle.close()\n",
    "    except (IOError) as error3:\n",
    "        IOError.append(fileFoto)\n",
    "        continue\n",
    "    except (EOFError) as error1:\n",
    "        eofError.append(fileFoto)\n",
    "        continue\n",
    "    except (RuntimeError) as error2:\n",
    "        runtimeError.append(fileFoto)\n",
    "        continue"
   ]
  },
  {
   "cell_type": "code",
   "execution_count": 4,
   "metadata": {},
   "outputs": [
    {
     "name": "stdout",
     "output_type": "stream",
     "text": [
      "152507\n"
     ]
    }
   ],
   "source": [
    "print(len(infoFotos))"
   ]
  },
  {
   "cell_type": "code",
   "execution_count": 5,
   "metadata": {},
   "outputs": [
    {
     "name": "stdout",
     "output_type": "stream",
     "text": [
      "0\n",
      "1\n",
      "0\n"
     ]
    }
   ],
   "source": [
    "print(len(runtimeError))\n",
    "print(len(eofError))\n",
    "print(len(IOError))"
   ]
  },
  {
   "cell_type": "code",
   "execution_count": 7,
   "metadata": {},
   "outputs": [],
   "source": [
    "keys = infoFotos[0].keys()"
   ]
  },
  {
   "cell_type": "code",
   "execution_count": 8,
   "metadata": {},
   "outputs": [
    {
     "name": "stdout",
     "output_type": "stream",
     "text": [
      "['description', 'title', 'ownerUsername', 'views', 'url', 'favorites', 'ownerId', 'id', 'tags']\n"
     ]
    }
   ],
   "source": [
    "print(keys)"
   ]
  },
  {
   "cell_type": "code",
   "execution_count": 8,
   "metadata": {},
   "outputs": [],
   "source": [
    "specificKeys = ['description','title', 'views', 'ownerId', 'id', 'tags','favorites']"
   ]
  },
  {
   "cell_type": "code",
   "execution_count": 9,
   "metadata": {},
   "outputs": [],
   "source": [
    "specificInfos = [dict((k,d[k]) for k in specificKeys) for d in infoFotos]"
   ]
  },
  {
   "cell_type": "code",
   "execution_count": 10,
   "metadata": {},
   "outputs": [
    {
     "data": {
      "text/plain": [
       "152507"
      ]
     },
     "execution_count": 10,
     "metadata": {},
     "output_type": "execute_result"
    }
   ],
   "source": [
    "len(specificInfos)"
   ]
  },
  {
   "cell_type": "code",
   "execution_count": 11,
   "metadata": {},
   "outputs": [],
   "source": [
    "for item in specificInfos:\n",
    "    for key, value in item.iteritems():\n",
    "        if (not isinstance(value,list)):\n",
    "            item[key] = unicode(value).encode('utf-8')"
   ]
  },
  {
   "cell_type": "code",
   "execution_count": 14,
   "metadata": {},
   "outputs": [],
   "source": [
    "filteredList = []\n",
    "for item in specificInfos:\n",
    "    if(not item['description'].isspace() and item['description']):\n",
    "        if(len(item['favorites']) >= 3):\n",
    "            filteredList.append(item)"
   ]
  },
  {
   "cell_type": "code",
   "execution_count": 15,
   "metadata": {},
   "outputs": [
    {
     "data": {
      "text/plain": [
       "73146"
      ]
     },
     "execution_count": 15,
     "metadata": {},
     "output_type": "execute_result"
    }
   ],
   "source": [
    "len(filteredList)"
   ]
  },
  {
   "cell_type": "code",
   "execution_count": 16,
   "metadata": {},
   "outputs": [],
   "source": [
    "with open('noWhite.csv', 'wb') as myfile:\n",
    "    dict_writer = csv.DictWriter(myfile, specificKeys)\n",
    "    dict_writer.writeheader()\n",
    "    dict_writer.writerows(filteredList)"
   ]
  },
  {
   "cell_type": "code",
   "execution_count": 17,
   "metadata": {},
   "outputs": [
    {
     "name": "stdout",
     "output_type": "stream",
     "text": [
      "['description', 'views', 'title', 'tags', 'favorites', 'ownerId', 'id']\n"
     ]
    }
   ],
   "source": [
    "print(filteredList[0].keys())"
   ]
  },
  {
   "cell_type": "code",
   "execution_count": 18,
   "metadata": {},
   "outputs": [
    {
     "name": "stdout",
     "output_type": "stream",
     "text": [
      "46\n"
     ]
    }
   ],
   "source": [
    "#Preciso pegar número de favoritadas e montar um arquivo com isso\n",
    "#Montar os ratings Usuario, idFoto\n",
    "#Ver quantos usuários temos\n",
    "print(len(filteredList[3]['favorites']))"
   ]
  },
  {
   "cell_type": "code",
   "execution_count": 19,
   "metadata": {},
   "outputs": [],
   "source": [
    "ratings = 0\n",
    "for item in filteredList:\n",
    "    ratings += len(item['favorites'])"
   ]
  },
  {
   "cell_type": "code",
   "execution_count": 20,
   "metadata": {},
   "outputs": [
    {
     "name": "stdout",
     "output_type": "stream",
     "text": [
      "16361376\n"
     ]
    }
   ],
   "source": [
    "print(ratings)"
   ]
  },
  {
   "cell_type": "code",
   "execution_count": 21,
   "metadata": {},
   "outputs": [
    {
     "name": "stdout",
     "output_type": "stream",
     "text": [
      "135122603@N04\n"
     ]
    }
   ],
   "source": [
    "print(filteredList[0]['favorites'][0])"
   ]
  },
  {
   "cell_type": "code",
   "execution_count": 29,
   "metadata": {},
   "outputs": [],
   "source": [
    "ratingsList = []\n",
    "for item in filteredList:\n",
    "    for user in item['favorites']:\n",
    "        dictRating = {'userID': user, 'pictureID' : item['id'], 'title': item['title']}\n",
    "        ratingsList.append(dictRating)"
   ]
  },
  {
   "cell_type": "code",
   "execution_count": 30,
   "metadata": {},
   "outputs": [],
   "source": [
    "with open('ratings.csv', 'wb') as myfile:\n",
    "    dict_writer = csv.DictWriter(myfile, ratingsList[0].keys())\n",
    "    dict_writer.writeheader()\n",
    "    dict_writer.writerows(ratingsList)"
   ]
  },
  {
   "cell_type": "code",
   "execution_count": 31,
   "metadata": {},
   "outputs": [],
   "source": [
    "users = {}\n",
    "for item in filteredList:\n",
    "    for user in item['favorites']:\n",
    "        if user not in users:\n",
    "            users[user.strip()] = user.strip()"
   ]
  },
  {
   "cell_type": "code",
   "execution_count": 32,
   "metadata": {},
   "outputs": [
    {
     "name": "stdout",
     "output_type": "stream",
     "text": [
      "425316\n"
     ]
    }
   ],
   "source": [
    "print(len(users))"
   ]
  },
  {
   "cell_type": "code",
   "execution_count": 33,
   "metadata": {
    "scrolled": false
   },
   "outputs": [
    {
     "name": "stdout",
     "output_type": "stream",
     "text": [
      "39124177@N04: 39124177@N04\n",
      "144867624@N02: 144867624@N02\n",
      "141468014@N08: 141468014@N08\n",
      "82042761@N04: 82042761@N04\n",
      "83748319@N00: 83748319@N00\n",
      "23429672@N03: 23429672@N03\n",
      "75685128@N03: 75685128@N03\n",
      "57271010@N03: 57271010@N03\n",
      "136403971@N05: 136403971@N05\n",
      "31078166@N02: 31078166@N02\n",
      "144249295@N04: 144249295@N04\n",
      "90897051@N02: 90897051@N02\n",
      "141077840@N02: 141077840@N02\n",
      "133771082@N02: 133771082@N02\n",
      "97259701@N05: 97259701@N05\n",
      "141952270@N02: 141952270@N02\n"
     ]
    }
   ],
   "source": [
    "i = 0\n",
    "for key, value in users.iteritems():\n",
    "    print(key + ': ' + value)\n",
    "    i+=1\n",
    "    if(i > 15):\n",
    "        break"
   ]
  }
 ],
 "metadata": {
  "kernelspec": {
   "display_name": "Python 2",
   "language": "python",
   "name": "python2"
  },
  "language_info": {
   "codemirror_mode": {
    "name": "ipython",
    "version": 2
   },
   "file_extension": ".py",
   "mimetype": "text/x-python",
   "name": "python",
   "nbconvert_exporter": "python",
   "pygments_lexer": "ipython2",
   "version": "2.7.12"
  }
 },
 "nbformat": 4,
 "nbformat_minor": 2
}
