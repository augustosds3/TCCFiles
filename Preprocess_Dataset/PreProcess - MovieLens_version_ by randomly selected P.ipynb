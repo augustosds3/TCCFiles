{
 "cells": [
  {
   "cell_type": "markdown",
   "metadata": {},
   "source": [
    "# Preprocessing ratings and textual content for MovieLens datasets"
   ]
  },
  {
   "cell_type": "markdown",
   "metadata": {
    "collapsed": true
   },
   "source": [
    "Here, we follow the procedure as that in:\n",
    "\n",
    "- CDL (KDD'15)  : Collaborative deep learning for recommender systems\n",
    "- CRAE (NIPS'16): Collaborative Recurrent Autoencoder: Recommend while Learning to Fill in the Blanks\n",
    "- CVAE (KDD'17) : Collaborative Variational Autoencoder for Recommender Systems\n",
    "\n",
    "-  (IJCAI'13) : Collaborative topic regression with social regularization for tag recommendation.\n",
    "-  (TKDE'15) : Relational collaborative topic regression for recommender systems.\n",
    "\n",
    "which consists in:\n",
    "\n",
    "- for each user:\n",
    "  - randomly select P (1 and 10) items for training, and the rest as test\n",
    "  - repeat the evaluation five times with different training set for each value of P\n",
    "  - (TODO) use 5-fold cross-validation to find the optimal hyperparameters of CRAE and the baselines"
   ]
  },
  {
   "cell_type": "code",
   "execution_count": 1,
   "metadata": {},
   "outputs": [],
   "source": [
    "import datetime\n",
    "import json\n",
    "import os\n",
    "import time\n",
    "import numpy as np\n",
    "\n",
    "import sys\n",
    "reload(sys)  \n",
    "sys.setdefaultencoding('utf8')\n",
    "\n",
    "import matplotlib\n",
    "matplotlib.use('Agg')\n",
    "import matplotlib.pyplot as plt\n",
    "%matplotlib inline\n",
    "\n",
    "from collections import Counter\n",
    "from numpy import log10\n",
    "\n",
    "import pandas as pd\n",
    "import scipy.sparse\n",
    "\n",
    "from sklearn.feature_extraction.text import TfidfVectorizer, CountVectorizer\n",
    "from operator import itemgetter\n",
    "from collections import defaultdict\n",
    "import csv\n",
    "\n",
    "import seaborn as sns\n",
    "sns.set(context=\"paper\", font_scale=1.5, rc={\"lines.linewidth\": 2}, font='Serif')\n",
    "%config InlineBackend.figure_format = 'retina'\n",
    "\n",
    "from IPython.core.interactiveshell import InteractiveShell\n",
    "InteractiveShell.ast_node_interactivity = \"all\""
   ]
  },
  {
   "cell_type": "markdown",
   "metadata": {},
   "source": [
    "## First, specify dataset version and input directory"
   ]
  },
  {
   "cell_type": "code",
   "execution_count": 2,
   "metadata": {},
   "outputs": [],
   "source": [
    "DATASET_ID = 'ml-10m'\n",
    "DATA_DIR   = '/mnt/hd0/anisio/datasets/ml-1m'\n",
    "MIN_RATING = 3 # hence, we only consider ratings > 3\n",
    "\n",
    "P            = 1\n",
    "execution_id = 1\n",
    "seed_P_E     = execution_id\n",
    "output_dir   = 'pro/P_%s_E_%s' % (P, execution_id)"
   ]
  },
  {
   "cell_type": "code",
   "execution_count": 3,
   "metadata": {},
   "outputs": [],
   "source": [
    "np.random.seed(0)"
   ]
  },
  {
   "cell_type": "markdown",
   "metadata": {},
   "source": [
    "## Filtering content data\n",
    "\n",
    "### Here we identify movies:\n",
    "\n",
    "- with title and plot empty content"
   ]
  },
  {
   "cell_type": "code",
   "execution_count": 4,
   "metadata": {},
   "outputs": [],
   "source": [
    "columns      = ['id', 'title', 'plot_outline', 'plot', 'keywords', 'language_codes', 'small_cover', 'large_cover']\n",
    "content_data = pd.read_csv(os.path.join(DATA_DIR, 'IMDb.csv'),\n",
    "                           sep=',',\n",
    "                           header=0,\n",
    "                           usecols=['id', 'title','plot','large_cover'],\n",
    "                           engine='python')"
   ]
  },
  {
   "cell_type": "code",
   "execution_count": 5,
   "metadata": {},
   "outputs": [
    {
     "data": {
      "text/plain": [
       "(3859, 4)"
      ]
     },
     "execution_count": 5,
     "metadata": {},
     "output_type": "execute_result"
    }
   ],
   "source": [
    "content_data.shape"
   ]
  },
  {
   "cell_type": "code",
   "execution_count": 6,
   "metadata": {},
   "outputs": [
    {
     "data": {
      "text/html": [
       "<div>\n",
       "<style>\n",
       "    .dataframe thead tr:only-child th {\n",
       "        text-align: right;\n",
       "    }\n",
       "\n",
       "    .dataframe thead th {\n",
       "        text-align: left;\n",
       "    }\n",
       "\n",
       "    .dataframe tbody tr th {\n",
       "        vertical-align: top;\n",
       "    }\n",
       "</style>\n",
       "<table border=\"1\" class=\"dataframe\">\n",
       "  <thead>\n",
       "    <tr style=\"text-align: right;\">\n",
       "      <th></th>\n",
       "      <th>id</th>\n",
       "      <th>title</th>\n",
       "      <th>plot</th>\n",
       "      <th>large_cover</th>\n",
       "    </tr>\n",
       "  </thead>\n",
       "  <tbody>\n",
       "    <tr>\n",
       "      <th>0</th>\n",
       "      <td>1</td>\n",
       "      <td>Toy Story</td>\n",
       "      <td>A little boy named Andy loves to be in his roo...</td>\n",
       "      <td>0/1_large.jpg</td>\n",
       "    </tr>\n",
       "    <tr>\n",
       "      <th>1</th>\n",
       "      <td>2</td>\n",
       "      <td>Jumanji</td>\n",
       "      <td>After being trapped in a jungle board game for...</td>\n",
       "      <td>0/2_large.jpg</td>\n",
       "    </tr>\n",
       "    <tr>\n",
       "      <th>2</th>\n",
       "      <td>3</td>\n",
       "      <td>Grumpier Old Men</td>\n",
       "      <td>Things don't seem to change much in Wabasha Co...</td>\n",
       "      <td>0/3_large.jpg</td>\n",
       "    </tr>\n",
       "    <tr>\n",
       "      <th>3</th>\n",
       "      <td>4</td>\n",
       "      <td>Waiting to Exhale</td>\n",
       "      <td>This story based on the best selling novel by ...</td>\n",
       "      <td>0/4_large.jpg</td>\n",
       "    </tr>\n",
       "    <tr>\n",
       "      <th>4</th>\n",
       "      <td>5</td>\n",
       "      <td>Father of the Bride Part II</td>\n",
       "      <td>In this sequel to \"Father of the Bride\" George...</td>\n",
       "      <td>0/5_large.jpg</td>\n",
       "    </tr>\n",
       "  </tbody>\n",
       "</table>\n",
       "</div>"
      ],
      "text/plain": [
       "   id                        title  \\\n",
       "0   1                    Toy Story   \n",
       "1   2                      Jumanji   \n",
       "2   3             Grumpier Old Men   \n",
       "3   4            Waiting to Exhale   \n",
       "4   5  Father of the Bride Part II   \n",
       "\n",
       "                                                plot    large_cover  \n",
       "0  A little boy named Andy loves to be in his roo...  0/1_large.jpg  \n",
       "1  After being trapped in a jungle board game for...  0/2_large.jpg  \n",
       "2  Things don't seem to change much in Wabasha Co...  0/3_large.jpg  \n",
       "3  This story based on the best selling novel by ...  0/4_large.jpg  \n",
       "4  In this sequel to \"Father of the Bride\" George...  0/5_large.jpg  "
      ]
     },
     "execution_count": 6,
     "metadata": {},
     "output_type": "execute_result"
    }
   ],
   "source": [
    "content_data.head()"
   ]
  },
  {
   "cell_type": "code",
   "execution_count": 7,
   "metadata": {},
   "outputs": [
    {
     "data": {
      "text/plain": [
       "id              0\n",
       "title           1\n",
       "plot           35\n",
       "large_cover     0\n",
       "dtype: int64"
      ]
     },
     "execution_count": 7,
     "metadata": {},
     "output_type": "execute_result"
    }
   ],
   "source": [
    "# Checking for missing data\n",
    "content_data.isnull().sum()"
   ]
  },
  {
   "cell_type": "markdown",
   "metadata": {},
   "source": [
    "There are 1059 movies without title and 1081 movies without plot. We are going to drop them from the dataset"
   ]
  },
  {
   "cell_type": "code",
   "execution_count": 8,
   "metadata": {},
   "outputs": [],
   "source": [
    "content_data = content_data.dropna(axis=0) # axis = 0 means drop lines"
   ]
  },
  {
   "cell_type": "code",
   "execution_count": 9,
   "metadata": {},
   "outputs": [
    {
     "data": {
      "text/plain": [
       "(3823, 4)"
      ]
     },
     "execution_count": 9,
     "metadata": {},
     "output_type": "execute_result"
    }
   ],
   "source": [
    "content_data.shape"
   ]
  },
  {
   "cell_type": "code",
   "execution_count": 10,
   "metadata": {},
   "outputs": [
    {
     "data": {
      "text/plain": [
       "id             0\n",
       "title          0\n",
       "plot           0\n",
       "large_cover    0\n",
       "dtype: int64"
      ]
     },
     "execution_count": 10,
     "metadata": {},
     "output_type": "execute_result"
    }
   ],
   "source": [
    "content_data.isnull().sum()"
   ]
  },
  {
   "cell_type": "code",
   "execution_count": 11,
   "metadata": {},
   "outputs": [],
   "source": [
    "valid_content_movie_ids = pd.unique(content_data['id'])"
   ]
  },
  {
   "cell_type": "markdown",
   "metadata": {},
   "source": [
    "## Filtering rating data\n",
    "\n",
    "### We drop instances with:\n",
    "\n",
    "- movies with empty title and plot description\n",
    "- ratings smaller than MIN_RATING\n",
    "- users with less than 10 ratings\n",
    "- items with less than 10 ratings"
   ]
  },
  {
   "cell_type": "code",
   "execution_count": 12,
   "metadata": {},
   "outputs": [],
   "source": [
    "columns  = ['user_id', 'item_id', 'rating', 'timestamp']\n",
    "raw_data = pd.read_csv(os.path.join(DATA_DIR, 'ratings.dat'), \n",
    "                       sep='::',\n",
    "                       header=0,\n",
    "                       names=columns,\n",
    "                       engine='python')"
   ]
  },
  {
   "cell_type": "code",
   "execution_count": 13,
   "metadata": {},
   "outputs": [
    {
     "data": {
      "text/html": [
       "<div>\n",
       "<style>\n",
       "    .dataframe thead tr:only-child th {\n",
       "        text-align: right;\n",
       "    }\n",
       "\n",
       "    .dataframe thead th {\n",
       "        text-align: left;\n",
       "    }\n",
       "\n",
       "    .dataframe tbody tr th {\n",
       "        vertical-align: top;\n",
       "    }\n",
       "</style>\n",
       "<table border=\"1\" class=\"dataframe\">\n",
       "  <thead>\n",
       "    <tr style=\"text-align: right;\">\n",
       "      <th></th>\n",
       "      <th>user_id</th>\n",
       "      <th>item_id</th>\n",
       "      <th>rating</th>\n",
       "      <th>timestamp</th>\n",
       "    </tr>\n",
       "  </thead>\n",
       "  <tbody>\n",
       "    <tr>\n",
       "      <th>0</th>\n",
       "      <td>1</td>\n",
       "      <td>661</td>\n",
       "      <td>3</td>\n",
       "      <td>978302109</td>\n",
       "    </tr>\n",
       "    <tr>\n",
       "      <th>1</th>\n",
       "      <td>1</td>\n",
       "      <td>914</td>\n",
       "      <td>3</td>\n",
       "      <td>978301968</td>\n",
       "    </tr>\n",
       "    <tr>\n",
       "      <th>2</th>\n",
       "      <td>1</td>\n",
       "      <td>3408</td>\n",
       "      <td>4</td>\n",
       "      <td>978300275</td>\n",
       "    </tr>\n",
       "    <tr>\n",
       "      <th>3</th>\n",
       "      <td>1</td>\n",
       "      <td>2355</td>\n",
       "      <td>5</td>\n",
       "      <td>978824291</td>\n",
       "    </tr>\n",
       "    <tr>\n",
       "      <th>4</th>\n",
       "      <td>1</td>\n",
       "      <td>1197</td>\n",
       "      <td>3</td>\n",
       "      <td>978302268</td>\n",
       "    </tr>\n",
       "  </tbody>\n",
       "</table>\n",
       "</div>"
      ],
      "text/plain": [
       "   user_id  item_id  rating  timestamp\n",
       "0        1      661       3  978302109\n",
       "1        1      914       3  978301968\n",
       "2        1     3408       4  978300275\n",
       "3        1     2355       5  978824291\n",
       "4        1     1197       3  978302268"
      ]
     },
     "execution_count": 13,
     "metadata": {},
     "output_type": "execute_result"
    }
   ],
   "source": [
    "raw_data.head()"
   ]
  },
  {
   "cell_type": "code",
   "execution_count": 14,
   "metadata": {},
   "outputs": [
    {
     "data": {
      "text/plain": [
       "(1000208, 4)"
      ]
     },
     "execution_count": 14,
     "metadata": {},
     "output_type": "execute_result"
    }
   ],
   "source": [
    "raw_data.shape # approx. 1 million ratings"
   ]
  },
  {
   "cell_type": "code",
   "execution_count": 15,
   "metadata": {},
   "outputs": [],
   "source": [
    "raw_data = raw_data.drop_duplicates(['user_id', 'item_id', 'rating', 'timestamp'])"
   ]
  },
  {
   "cell_type": "code",
   "execution_count": 16,
   "metadata": {},
   "outputs": [
    {
     "data": {
      "text/plain": [
       "(1000208, 4)"
      ]
     },
     "execution_count": 16,
     "metadata": {},
     "output_type": "execute_result"
    }
   ],
   "source": [
    "raw_data.shape # there are not duplicates"
   ]
  },
  {
   "cell_type": "code",
   "execution_count": 17,
   "metadata": {},
   "outputs": [],
   "source": [
    "# dropping movies with empty content\n",
    "raw_data = raw_data[raw_data['item_id'].isin(valid_content_movie_ids)]"
   ]
  },
  {
   "cell_type": "code",
   "execution_count": 18,
   "metadata": {},
   "outputs": [
    {
     "data": {
      "text/plain": [
       "(997220, 4)"
      ]
     },
     "execution_count": 18,
     "metadata": {},
     "output_type": "execute_result"
    }
   ],
   "source": [
    "raw_data.shape"
   ]
  },
  {
   "cell_type": "code",
   "execution_count": 19,
   "metadata": {},
   "outputs": [],
   "source": [
    "# binarize the data (only keep ratings >= MIN_RATING)\n",
    "raw_data = raw_data[raw_data['rating'] > MIN_RATING]"
   ]
  },
  {
   "cell_type": "code",
   "execution_count": 20,
   "metadata": {},
   "outputs": [
    {
     "data": {
      "text/plain": [
       "count    573106.000000\n",
       "mean          4.392971\n",
       "std           0.488411\n",
       "min           4.000000\n",
       "25%           4.000000\n",
       "50%           4.000000\n",
       "75%           5.000000\n",
       "max           5.000000\n",
       "Name: rating, dtype: float64"
      ]
     },
     "execution_count": 20,
     "metadata": {},
     "output_type": "execute_result"
    }
   ],
   "source": [
    "raw_data['rating'].describe()"
   ]
  },
  {
   "cell_type": "code",
   "execution_count": 21,
   "metadata": {},
   "outputs": [
    {
     "data": {
      "text/plain": [
       "(573106, 4)"
      ]
     },
     "execution_count": 21,
     "metadata": {},
     "output_type": "execute_result"
    }
   ],
   "source": [
    "raw_data.shape"
   ]
  },
  {
   "cell_type": "code",
   "execution_count": 22,
   "metadata": {},
   "outputs": [
    {
     "data": {
      "text/html": [
       "<div>\n",
       "<style>\n",
       "    .dataframe thead tr:only-child th {\n",
       "        text-align: right;\n",
       "    }\n",
       "\n",
       "    .dataframe thead th {\n",
       "        text-align: left;\n",
       "    }\n",
       "\n",
       "    .dataframe tbody tr th {\n",
       "        vertical-align: top;\n",
       "    }\n",
       "</style>\n",
       "<table border=\"1\" class=\"dataframe\">\n",
       "  <thead>\n",
       "    <tr style=\"text-align: right;\">\n",
       "      <th></th>\n",
       "      <th>user_id</th>\n",
       "      <th>item_id</th>\n",
       "      <th>rating</th>\n",
       "      <th>timestamp</th>\n",
       "    </tr>\n",
       "  </thead>\n",
       "  <tbody>\n",
       "    <tr>\n",
       "      <th>2</th>\n",
       "      <td>1</td>\n",
       "      <td>3408</td>\n",
       "      <td>4</td>\n",
       "      <td>978300275</td>\n",
       "    </tr>\n",
       "    <tr>\n",
       "      <th>3</th>\n",
       "      <td>1</td>\n",
       "      <td>2355</td>\n",
       "      <td>5</td>\n",
       "      <td>978824291</td>\n",
       "    </tr>\n",
       "    <tr>\n",
       "      <th>5</th>\n",
       "      <td>1</td>\n",
       "      <td>1287</td>\n",
       "      <td>5</td>\n",
       "      <td>978302039</td>\n",
       "    </tr>\n",
       "    <tr>\n",
       "      <th>6</th>\n",
       "      <td>1</td>\n",
       "      <td>2804</td>\n",
       "      <td>5</td>\n",
       "      <td>978300719</td>\n",
       "    </tr>\n",
       "    <tr>\n",
       "      <th>7</th>\n",
       "      <td>1</td>\n",
       "      <td>594</td>\n",
       "      <td>4</td>\n",
       "      <td>978302268</td>\n",
       "    </tr>\n",
       "  </tbody>\n",
       "</table>\n",
       "</div>"
      ],
      "text/plain": [
       "   user_id  item_id  rating  timestamp\n",
       "2        1     3408       4  978300275\n",
       "3        1     2355       5  978824291\n",
       "5        1     1287       5  978302039\n",
       "6        1     2804       5  978300719\n",
       "7        1      594       4  978302268"
      ]
     },
     "execution_count": 22,
     "metadata": {},
     "output_type": "execute_result"
    }
   ],
   "source": [
    "raw_data.head(5)"
   ]
  },
  {
   "cell_type": "code",
   "execution_count": 23,
   "metadata": {},
   "outputs": [],
   "source": [
    "raw_data = raw_data.reindex(np.random.permutation(raw_data.index))"
   ]
  },
  {
   "cell_type": "code",
   "execution_count": 24,
   "metadata": {},
   "outputs": [
    {
     "data": {
      "text/html": [
       "<div>\n",
       "<style>\n",
       "    .dataframe thead tr:only-child th {\n",
       "        text-align: right;\n",
       "    }\n",
       "\n",
       "    .dataframe thead th {\n",
       "        text-align: left;\n",
       "    }\n",
       "\n",
       "    .dataframe tbody tr th {\n",
       "        vertical-align: top;\n",
       "    }\n",
       "</style>\n",
       "<table border=\"1\" class=\"dataframe\">\n",
       "  <thead>\n",
       "    <tr style=\"text-align: right;\">\n",
       "      <th></th>\n",
       "      <th>user_id</th>\n",
       "      <th>item_id</th>\n",
       "      <th>rating</th>\n",
       "      <th>timestamp</th>\n",
       "    </tr>\n",
       "  </thead>\n",
       "  <tbody>\n",
       "    <tr>\n",
       "      <th>663341</th>\n",
       "      <td>3998</td>\n",
       "      <td>1258</td>\n",
       "      <td>5</td>\n",
       "      <td>965577783</td>\n",
       "    </tr>\n",
       "    <tr>\n",
       "      <th>128375</th>\n",
       "      <td>830</td>\n",
       "      <td>522</td>\n",
       "      <td>4</td>\n",
       "      <td>975367535</td>\n",
       "    </tr>\n",
       "    <tr>\n",
       "      <th>306816</th>\n",
       "      <td>1831</td>\n",
       "      <td>1704</td>\n",
       "      <td>5</td>\n",
       "      <td>974703110</td>\n",
       "    </tr>\n",
       "    <tr>\n",
       "      <th>953039</th>\n",
       "      <td>5755</td>\n",
       "      <td>1288</td>\n",
       "      <td>5</td>\n",
       "      <td>958265305</td>\n",
       "    </tr>\n",
       "    <tr>\n",
       "      <th>919244</th>\n",
       "      <td>5555</td>\n",
       "      <td>590</td>\n",
       "      <td>4</td>\n",
       "      <td>959458885</td>\n",
       "    </tr>\n",
       "  </tbody>\n",
       "</table>\n",
       "</div>"
      ],
      "text/plain": [
       "        user_id  item_id  rating  timestamp\n",
       "663341     3998     1258       5  965577783\n",
       "128375      830      522       4  975367535\n",
       "306816     1831     1704       5  974703110\n",
       "953039     5755     1288       5  958265305\n",
       "919244     5555      590       4  959458885"
      ]
     },
     "execution_count": 24,
     "metadata": {},
     "output_type": "execute_result"
    }
   ],
   "source": [
    "raw_data.head(5)"
   ]
  },
  {
   "cell_type": "code",
   "execution_count": 25,
   "metadata": {},
   "outputs": [],
   "source": [
    "print raw_data[raw_data.index==663341]"
   ]
  },
  {
   "cell_type": "code",
   "execution_count": 26,
   "metadata": {},
   "outputs": [],
   "source": [
    "def get_count(data, column):\n",
    "    rating_count_group_by_column = data[[column]].groupby(column, as_index=False)\n",
    "    count                        = rating_count_group_by_column.size()\n",
    "    return count"
   ]
  },
  {
   "cell_type": "code",
   "execution_count": 27,
   "metadata": {},
   "outputs": [],
   "source": [
    "def filter_triplets(data, min_items_per_user=12, min_ratings_per_item=10):\n",
    "    # only keep triplets for items rated by at least min_ratings_per_item\n",
    "    if min_ratings_per_item > 0:\n",
    "        item_count = get_count(data, 'item_id')\n",
    "        data       = data[data['item_id'].isin(item_count.index[item_count >= min_ratings_per_item])]\n",
    "    # only keep triplets for users who rated at least min_items_per_user\n",
    "    # after filtering, a small proportion of the items may have less than min_ratings_per_item\n",
    "    # TODO: verify this later\n",
    "    if min_items_per_user > 0:\n",
    "        user_count = get_count(data, 'user_id')\n",
    "        data       = data[data['user_id'].isin(user_count.index[user_count >= min_items_per_user])]       \n",
    "    # update both user_count and item_count after filtering\n",
    "    user_count, item_count = get_count(data, 'user_id'), get_count(data, 'item_id')\n",
    "    return data, user_count, item_count"
   ]
  },
  {
   "cell_type": "code",
   "execution_count": 28,
   "metadata": {},
   "outputs": [],
   "source": [
    "raw_data, user_activity, item_popularity = filter_triplets(raw_data)"
   ]
  },
  {
   "cell_type": "code",
   "execution_count": 29,
   "metadata": {},
   "outputs": [
    {
     "data": {
      "text/html": [
       "<div>\n",
       "<style>\n",
       "    .dataframe thead tr:only-child th {\n",
       "        text-align: right;\n",
       "    }\n",
       "\n",
       "    .dataframe thead th {\n",
       "        text-align: left;\n",
       "    }\n",
       "\n",
       "    .dataframe tbody tr th {\n",
       "        vertical-align: top;\n",
       "    }\n",
       "</style>\n",
       "<table border=\"1\" class=\"dataframe\">\n",
       "  <thead>\n",
       "    <tr style=\"text-align: right;\">\n",
       "      <th></th>\n",
       "      <th>user_id</th>\n",
       "      <th>item_id</th>\n",
       "      <th>rating</th>\n",
       "      <th>timestamp</th>\n",
       "    </tr>\n",
       "  </thead>\n",
       "  <tbody>\n",
       "    <tr>\n",
       "      <th>663341</th>\n",
       "      <td>3998</td>\n",
       "      <td>1258</td>\n",
       "      <td>5</td>\n",
       "      <td>965577783</td>\n",
       "    </tr>\n",
       "    <tr>\n",
       "      <th>128375</th>\n",
       "      <td>830</td>\n",
       "      <td>522</td>\n",
       "      <td>4</td>\n",
       "      <td>975367535</td>\n",
       "    </tr>\n",
       "    <tr>\n",
       "      <th>306816</th>\n",
       "      <td>1831</td>\n",
       "      <td>1704</td>\n",
       "      <td>5</td>\n",
       "      <td>974703110</td>\n",
       "    </tr>\n",
       "    <tr>\n",
       "      <th>953039</th>\n",
       "      <td>5755</td>\n",
       "      <td>1288</td>\n",
       "      <td>5</td>\n",
       "      <td>958265305</td>\n",
       "    </tr>\n",
       "    <tr>\n",
       "      <th>919244</th>\n",
       "      <td>5555</td>\n",
       "      <td>590</td>\n",
       "      <td>4</td>\n",
       "      <td>959458885</td>\n",
       "    </tr>\n",
       "  </tbody>\n",
       "</table>\n",
       "</div>"
      ],
      "text/plain": [
       "        user_id  item_id  rating  timestamp\n",
       "663341     3998     1258       5  965577783\n",
       "128375      830      522       4  975367535\n",
       "306816     1831     1704       5  974703110\n",
       "953039     5755     1288       5  958265305\n",
       "919244     5555      590       4  959458885"
      ]
     },
     "execution_count": 29,
     "metadata": {},
     "output_type": "execute_result"
    }
   ],
   "source": [
    "raw_data.head()"
   ]
  },
  {
   "cell_type": "code",
   "execution_count": 30,
   "metadata": {},
   "outputs": [
    {
     "data": {
      "text/plain": [
       "(568537, 4)"
      ]
     },
     "execution_count": 30,
     "metadata": {},
     "output_type": "execute_result"
    }
   ],
   "source": [
    "raw_data.shape"
   ]
  },
  {
   "cell_type": "code",
   "execution_count": 31,
   "metadata": {},
   "outputs": [
    {
     "data": {
      "text/plain": [
       "user_id\n",
       "1    44\n",
       "2    73\n",
       "3    37\n",
       "4    18\n",
       "5    81\n",
       "dtype: int64"
      ]
     },
     "execution_count": 31,
     "metadata": {},
     "output_type": "execute_result"
    }
   ],
   "source": [
    "user_activity.head()"
   ]
  },
  {
   "cell_type": "code",
   "execution_count": 32,
   "metadata": {},
   "outputs": [
    {
     "data": {
      "text/plain": [
       "item_id\n",
       "1    1651\n",
       "2     283\n",
       "3     147\n",
       "4      37\n",
       "5      96\n",
       "dtype: int64"
      ]
     },
     "execution_count": 32,
     "metadata": {},
     "output_type": "execute_result"
    }
   ],
   "source": [
    "item_popularity.head()"
   ]
  },
  {
   "cell_type": "markdown",
   "metadata": {},
   "source": [
    "For each value of P (1 and 10), we build different training, validation and testing sets"
   ]
  },
  {
   "cell_type": "code",
   "execution_count": 33,
   "metadata": {},
   "outputs": [],
   "source": [
    "df = raw_data.copy()"
   ]
  },
  {
   "cell_type": "code",
   "execution_count": 34,
   "metadata": {},
   "outputs": [],
   "source": [
    "grouped = df.groupby('user_id', as_index=False)['item_id'].agg({'list':(lambda x: list(x))})"
   ]
  },
  {
   "cell_type": "code",
   "execution_count": 35,
   "metadata": {},
   "outputs": [
    {
     "data": {
      "text/html": [
       "<div>\n",
       "<style>\n",
       "    .dataframe thead tr:only-child th {\n",
       "        text-align: right;\n",
       "    }\n",
       "\n",
       "    .dataframe thead th {\n",
       "        text-align: left;\n",
       "    }\n",
       "\n",
       "    .dataframe tbody tr th {\n",
       "        vertical-align: top;\n",
       "    }\n",
       "</style>\n",
       "<table border=\"1\" class=\"dataframe\">\n",
       "  <thead>\n",
       "    <tr style=\"text-align: right;\">\n",
       "      <th></th>\n",
       "      <th>user_id</th>\n",
       "      <th>list</th>\n",
       "    </tr>\n",
       "  </thead>\n",
       "  <tbody>\n",
       "    <tr>\n",
       "      <th>0</th>\n",
       "      <td>1</td>\n",
       "      <td>[1566, 1, 1029, 1961, 3105, 919, 1721, 2762, 2...</td>\n",
       "    </tr>\n",
       "    <tr>\n",
       "      <th>1</th>\n",
       "      <td>2</td>\n",
       "      <td>[1370, 3147, 2396, 1293, 2858, 3418, 1124, 195...</td>\n",
       "    </tr>\n",
       "    <tr>\n",
       "      <th>2</th>\n",
       "      <td>3</td>\n",
       "      <td>[1136, 1961, 1968, 1291, 3421, 3671, 653, 1198...</td>\n",
       "    </tr>\n",
       "    <tr>\n",
       "      <th>3</th>\n",
       "      <td>4</td>\n",
       "      <td>[480, 1097, 1201, 1214, 2366, 3418, 3468, 1387...</td>\n",
       "    </tr>\n",
       "    <tr>\n",
       "      <th>4</th>\n",
       "      <td>5</td>\n",
       "      <td>[1897, 2599, 562, 2908, 1449, 2890, 1513, 515,...</td>\n",
       "    </tr>\n",
       "  </tbody>\n",
       "</table>\n",
       "</div>"
      ],
      "text/plain": [
       "   user_id                                               list\n",
       "0        1  [1566, 1, 1029, 1961, 3105, 919, 1721, 2762, 2...\n",
       "1        2  [1370, 3147, 2396, 1293, 2858, 3418, 1124, 195...\n",
       "2        3  [1136, 1961, 1968, 1291, 3421, 3671, 653, 1198...\n",
       "3        4  [480, 1097, 1201, 1214, 2366, 3418, 3468, 1387...\n",
       "4        5  [1897, 2599, 562, 2908, 1449, 2890, 1513, 515,..."
      ]
     },
     "execution_count": 35,
     "metadata": {},
     "output_type": "execute_result"
    }
   ],
   "source": [
    "grouped.head(5)"
   ]
  },
  {
   "cell_type": "markdown",
   "metadata": {},
   "source": [
    "## Let's plot the distribution of rated items"
   ]
  },
  {
   "cell_type": "code",
   "execution_count": 36,
   "metadata": {},
   "outputs": [],
   "source": [
    "grouped['rating_frequency'] = [len(grouped[grouped.index==i]['list'].values[0]) for i in range(grouped.shape[0])]"
   ]
  },
  {
   "cell_type": "code",
   "execution_count": 37,
   "metadata": {},
   "outputs": [
    {
     "data": {
      "text/plain": [
       "(array([  1.21000000e+03,   8.43000000e+02,   6.20000000e+02,\n",
       "          4.60000000e+02,   3.95000000e+02,   3.27000000e+02,\n",
       "          2.82000000e+02,   2.02000000e+02,   2.15000000e+02,\n",
       "          1.59000000e+02,   1.52000000e+02,   1.12000000e+02,\n",
       "          9.90000000e+01,   8.70000000e+01,   7.20000000e+01,\n",
       "          8.30000000e+01,   7.50000000e+01,   6.70000000e+01,\n",
       "          3.50000000e+01,   4.10000000e+01,   3.60000000e+01,\n",
       "          3.20000000e+01,   3.30000000e+01,   2.10000000e+01,\n",
       "          2.40000000e+01,   1.50000000e+01,   1.20000000e+01,\n",
       "          2.40000000e+01,   1.40000000e+01,   1.00000000e+01,\n",
       "          8.00000000e+00,   1.70000000e+01,   1.10000000e+01,\n",
       "          9.00000000e+00,   7.00000000e+00,   6.00000000e+00,\n",
       "          8.00000000e+00,   5.00000000e+00,   5.00000000e+00,\n",
       "          1.00000000e+00,   3.00000000e+00,   2.00000000e+00,\n",
       "          4.00000000e+00,   1.00000000e+00,   2.00000000e+00,\n",
       "          1.00000000e+00,   2.00000000e+00,   2.00000000e+00,\n",
       "          1.00000000e+00,   1.00000000e+00,   0.00000000e+00,\n",
       "          0.00000000e+00,   0.00000000e+00,   2.00000000e+00,\n",
       "          0.00000000e+00,   1.00000000e+00,   4.00000000e+00,\n",
       "          2.00000000e+00,   2.00000000e+00,   0.00000000e+00,\n",
       "          0.00000000e+00,   0.00000000e+00,   0.00000000e+00,\n",
       "          0.00000000e+00,   0.00000000e+00,   0.00000000e+00,\n",
       "          0.00000000e+00,   0.00000000e+00,   0.00000000e+00,\n",
       "          0.00000000e+00,   0.00000000e+00,   0.00000000e+00,\n",
       "          0.00000000e+00,   0.00000000e+00,   0.00000000e+00,\n",
       "          1.00000000e+00,   0.00000000e+00,   0.00000000e+00,\n",
       "          0.00000000e+00,   0.00000000e+00,   0.00000000e+00,\n",
       "          0.00000000e+00,   1.00000000e+00,   0.00000000e+00,\n",
       "          0.00000000e+00,   0.00000000e+00,   0.00000000e+00,\n",
       "          0.00000000e+00,   0.00000000e+00,   0.00000000e+00,\n",
       "          0.00000000e+00,   0.00000000e+00,   0.00000000e+00,\n",
       "          0.00000000e+00,   0.00000000e+00,   0.00000000e+00,\n",
       "          0.00000000e+00,   0.00000000e+00,   0.00000000e+00,\n",
       "          1.00000000e+00]),\n",
       " array([   12.  ,    25.73,    39.46,    53.19,    66.92,    80.65,\n",
       "           94.38,   108.11,   121.84,   135.57,   149.3 ,   163.03,\n",
       "          176.76,   190.49,   204.22,   217.95,   231.68,   245.41,\n",
       "          259.14,   272.87,   286.6 ,   300.33,   314.06,   327.79,\n",
       "          341.52,   355.25,   368.98,   382.71,   396.44,   410.17,\n",
       "          423.9 ,   437.63,   451.36,   465.09,   478.82,   492.55,\n",
       "          506.28,   520.01,   533.74,   547.47,   561.2 ,   574.93,\n",
       "          588.66,   602.39,   616.12,   629.85,   643.58,   657.31,\n",
       "          671.04,   684.77,   698.5 ,   712.23,   725.96,   739.69,\n",
       "          753.42,   767.15,   780.88,   794.61,   808.34,   822.07,\n",
       "          835.8 ,   849.53,   863.26,   876.99,   890.72,   904.45,\n",
       "          918.18,   931.91,   945.64,   959.37,   973.1 ,   986.83,\n",
       "         1000.56,  1014.29,  1028.02,  1041.75,  1055.48,  1069.21,\n",
       "         1082.94,  1096.67,  1110.4 ,  1124.13,  1137.86,  1151.59,\n",
       "         1165.32,  1179.05,  1192.78,  1206.51,  1220.24,  1233.97,\n",
       "         1247.7 ,  1261.43,  1275.16,  1288.89,  1302.62,  1316.35,\n",
       "         1330.08,  1343.81,  1357.54,  1371.27,  1385.  ]),\n",
       " <a list of 100 Patch objects>)"
      ]
     },
     "execution_count": 37,
     "metadata": {},
     "output_type": "execute_result"
    },
    {
     "data": {
      "image/png": "[encoded data removed]",
      "text/plain": [
       "<matplotlib.figure.Figure at 0x1165e3fd0>"
      ]
     },
     "metadata": {
      "image/png": {
       "height": 248,
       "width": 388
      }
     },
     "output_type": "display_data"
    }
   ],
   "source": [
    "plt.hist(grouped['rating_frequency'],bins=100)\n",
    "plt.show()"
   ]
  },
  {
   "cell_type": "code",
   "execution_count": 38,
   "metadata": {},
   "outputs": [
    {
     "data": {
      "text/plain": [
       "count    5867.000000\n",
       "mean       96.904210\n",
       "std       104.031504\n",
       "min        12.000000\n",
       "25%        29.000000\n",
       "50%        60.000000\n",
       "75%       125.000000\n",
       "max      1385.000000\n",
       "Name: rating_frequency, dtype: float64"
      ]
     },
     "execution_count": 38,
     "metadata": {},
     "output_type": "execute_result"
    }
   ],
   "source": [
    "grouped['rating_frequency'].describe()"
   ]
  },
  {
   "cell_type": "code",
   "execution_count": 39,
   "metadata": {},
   "outputs": [],
   "source": [
    "num_users_min_ratings = len(grouped[grouped['rating_frequency']==10])\n",
    "print 'Num users with 10 ratings: %s (%.3f%%)' % (num_users_min_ratings, 100*(float(num_users_min_ratings)/grouped.shape[0]))"
   ]
  },
  {
   "cell_type": "code",
   "execution_count": 40,
   "metadata": {},
   "outputs": [],
   "source": [
    "grouped=grouped.drop('rating_frequency', axis=1)"
   ]
  },
  {
   "cell_type": "markdown",
   "metadata": {},
   "source": [
    "## Let's build train/valid/test files"
   ]
  },
  {
   "cell_type": "code",
   "execution_count": null,
   "metadata": {},
   "outputs": [],
   "source": []
  },
  {
   "cell_type": "code",
   "execution_count": 41,
   "metadata": {},
   "outputs": [],
   "source": [
    "def split_train_val_test(x, train_size, seed):\n",
    "    np.random.seed(seed)\n",
    "    train       = np.random.choice(x, [1,train_size], replace=False)[0]\n",
    "    holdout     = np.array(list(set(x).difference(set(train))))\n",
    "    num_ratings = len(holdout)\n",
    "    if num_ratings > 0:\n",
    "        validation = np.random.choice(num_ratings, size=int(np.ceil(0.10*num_ratings)),replace=False)\n",
    "        validation_idx = np.zeros(num_ratings, dtype=bool)\n",
    "        validation_idx[validation] = True\n",
    "        validation = holdout[validation_idx]\n",
    "        test = holdout[~validation_idx]\n",
    "    else:\n",
    "        validation = np.array([])\n",
    "        test = np.array([])\n",
    "    return[train, validation, test]"
   ]
  },
  {
   "cell_type": "code",
   "execution_count": 42,
   "metadata": {},
   "outputs": [],
   "source": [
    "def get_data(line, pos):\n",
    "    return line[pos]"
   ]
  },
  {
   "cell_type": "code",
   "execution_count": 43,
   "metadata": {},
   "outputs": [],
   "source": [
    "def get_split_data_frame(raw_data, grouped_data, label):\n",
    "    d    = {'train':0, 'val':1, 'test':2}\n",
    "    fold = grouped_data['splits'].apply(get_data, pos=d[label])\n",
    "    \n",
    "    items = fold.values\n",
    "    users = grouped_data['user_id'].values\n",
    "    \n",
    "    tmp_list  = map(lambda pair: zip([pair[0]]*len(pair[1]),pair[1]), zip(users, items))\n",
    "    flat_list = [item for sublist in tmp_list for item in sublist]\n",
    "    tmp_df    = pd.DataFrame(flat_list,columns=['user_id','item_id'])\n",
    "    return pd.merge(raw_data, tmp_df)"
   ]
  },
  {
   "cell_type": "code",
   "execution_count": 44,
   "metadata": {},
   "outputs": [],
   "source": [
    "grouped['splits'] = grouped['list'].apply(split_train_val_test, train_size=P, seed=seed_P_E)"
   ]
  },
  {
   "cell_type": "code",
   "execution_count": 45,
   "metadata": {},
   "outputs": [
    {
     "data": {
      "text/html": [
       "<div>\n",
       "<style>\n",
       "    .dataframe thead tr:only-child th {\n",
       "        text-align: right;\n",
       "    }\n",
       "\n",
       "    .dataframe thead th {\n",
       "        text-align: left;\n",
       "    }\n",
       "\n",
       "    .dataframe tbody tr th {\n",
       "        vertical-align: top;\n",
       "    }\n",
       "</style>\n",
       "<table border=\"1\" class=\"dataframe\">\n",
       "  <thead>\n",
       "    <tr style=\"text-align: right;\">\n",
       "      <th></th>\n",
       "      <th>user_id</th>\n",
       "      <th>list</th>\n",
       "      <th>splits</th>\n",
       "    </tr>\n",
       "  </thead>\n",
       "  <tbody>\n",
       "    <tr>\n",
       "      <th>0</th>\n",
       "      <td>1</td>\n",
       "      <td>[1566, 1, 1029, 1961, 3105, 919, 1721, 2762, 2...</td>\n",
       "      <td>[[1961], [1028, 260, 588, 2018, 1270], [1, 102...</td>\n",
       "    </tr>\n",
       "    <tr>\n",
       "      <th>1</th>\n",
       "      <td>2</td>\n",
       "      <td>[1370, 3147, 2396, 1293, 2858, 3418, 1124, 195...</td>\n",
       "      <td>[[1188], [265, 1225, 1198, 3255, 1357, 1873, 1...</td>\n",
       "    </tr>\n",
       "    <tr>\n",
       "      <th>2</th>\n",
       "      <td>3</td>\n",
       "      <td>[1136, 1961, 1968, 1291, 3421, 3671, 653, 1198...</td>\n",
       "      <td>[[1968], [1049, 2858, 480, 2115], [260, 1266, ...</td>\n",
       "    </tr>\n",
       "    <tr>\n",
       "      <th>3</th>\n",
       "      <td>4</td>\n",
       "      <td>[480, 1097, 1201, 1214, 2366, 3418, 3468, 1387...</td>\n",
       "      <td>[[3468], [2692, 1198], [480, 1954, 2947, 2951,...</td>\n",
       "    </tr>\n",
       "    <tr>\n",
       "      <th>4</th>\n",
       "      <td>5</td>\n",
       "      <td>[1897, 2599, 562, 2908, 1449, 2890, 1513, 515,...</td>\n",
       "      <td>[[2029], [994, 2890, 2571, 2770, 866, 1513, 41...</td>\n",
       "    </tr>\n",
       "  </tbody>\n",
       "</table>\n",
       "</div>"
      ],
      "text/plain": [
       "   user_id                                               list  \\\n",
       "0        1  [1566, 1, 1029, 1961, 3105, 919, 1721, 2762, 2...   \n",
       "1        2  [1370, 3147, 2396, 1293, 2858, 3418, 1124, 195...   \n",
       "2        3  [1136, 1961, 1968, 1291, 3421, 3671, 653, 1198...   \n",
       "3        4  [480, 1097, 1201, 1214, 2366, 3418, 3468, 1387...   \n",
       "4        5  [1897, 2599, 562, 2908, 1449, 2890, 1513, 515,...   \n",
       "\n",
       "                                              splits  \n",
       "0  [[1961], [1028, 260, 588, 2018, 1270], [1, 102...  \n",
       "1  [[1188], [265, 1225, 1198, 3255, 1357, 1873, 1...  \n",
       "2  [[1968], [1049, 2858, 480, 2115], [260, 1266, ...  \n",
       "3  [[3468], [2692, 1198], [480, 1954, 2947, 2951,...  \n",
       "4  [[2029], [994, 2890, 2571, 2770, 866, 1513, 41...  "
      ]
     },
     "execution_count": 45,
     "metadata": {},
     "output_type": "execute_result"
    }
   ],
   "source": [
    "grouped.head()"
   ]
  },
  {
   "cell_type": "code",
   "execution_count": 46,
   "metadata": {},
   "outputs": [],
   "source": [
    "train_raw_data = get_split_data_frame(raw_data, grouped, 'train')\n",
    "val_raw_data   = get_split_data_frame(raw_data, grouped, 'val')\n",
    "test_raw_data  = get_split_data_frame(raw_data, grouped, 'test')"
   ]
  },
  {
   "cell_type": "code",
   "execution_count": 47,
   "metadata": {},
   "outputs": [
    {
     "data": {
      "text/html": [
       "<div>\n",
       "<style>\n",
       "    .dataframe thead tr:only-child th {\n",
       "        text-align: right;\n",
       "    }\n",
       "\n",
       "    .dataframe thead th {\n",
       "        text-align: left;\n",
       "    }\n",
       "\n",
       "    .dataframe tbody tr th {\n",
       "        vertical-align: top;\n",
       "    }\n",
       "</style>\n",
       "<table border=\"1\" class=\"dataframe\">\n",
       "  <thead>\n",
       "    <tr style=\"text-align: right;\">\n",
       "      <th></th>\n",
       "      <th>user_id</th>\n",
       "      <th>item_id</th>\n",
       "      <th>rating</th>\n",
       "      <th>timestamp</th>\n",
       "    </tr>\n",
       "  </thead>\n",
       "  <tbody>\n",
       "    <tr>\n",
       "      <th>0</th>\n",
       "      <td>4339</td>\n",
       "      <td>1831</td>\n",
       "      <td>4</td>\n",
       "      <td>965232951</td>\n",
       "    </tr>\n",
       "    <tr>\n",
       "      <th>1</th>\n",
       "      <td>3662</td>\n",
       "      <td>1301</td>\n",
       "      <td>5</td>\n",
       "      <td>966429140</td>\n",
       "    </tr>\n",
       "    <tr>\n",
       "      <th>2</th>\n",
       "      <td>4420</td>\n",
       "      <td>293</td>\n",
       "      <td>4</td>\n",
       "      <td>965122428</td>\n",
       "    </tr>\n",
       "    <tr>\n",
       "      <th>3</th>\n",
       "      <td>4448</td>\n",
       "      <td>1449</td>\n",
       "      <td>5</td>\n",
       "      <td>1001419438</td>\n",
       "    </tr>\n",
       "    <tr>\n",
       "      <th>4</th>\n",
       "      <td>2909</td>\n",
       "      <td>266</td>\n",
       "      <td>4</td>\n",
       "      <td>1009393114</td>\n",
       "    </tr>\n",
       "  </tbody>\n",
       "</table>\n",
       "</div>"
      ],
      "text/plain": [
       "   user_id  item_id  rating   timestamp\n",
       "0     4339     1831       4   965232951\n",
       "1     3662     1301       5   966429140\n",
       "2     4420      293       4   965122428\n",
       "3     4448     1449       5  1001419438\n",
       "4     2909      266       4  1009393114"
      ]
     },
     "execution_count": 47,
     "metadata": {},
     "output_type": "execute_result"
    }
   ],
   "source": [
    "train_raw_data.head()"
   ]
  },
  {
   "cell_type": "code",
   "execution_count": 48,
   "metadata": {},
   "outputs": [],
   "source": [
    "print train_raw_data.shape, val_raw_data.shape, test_raw_data.shape, raw_data.shape\n",
    "print (train_raw_data.shape[0]+val_raw_data.shape[0]+test_raw_data.shape[0] == raw_data.shape[0]) # the whole\n",
    "# is the sum of partitions"
   ]
  },
  {
   "cell_type": "code",
   "execution_count": 49,
   "metadata": {},
   "outputs": [],
   "source": [
    "## Sanity toy test of above code\n",
    "\n",
    "#tmp=grouped.head(5)\n",
    "#tmp=tmp.drop('splits',axis=1)\n",
    "#def get_five(x):\n",
    "#    return x[:5]\n",
    "#tmp['list'] = tmp['list'].apply(get_five)\n",
    "#tmp['splits'] = tmp['list'].apply(split_train_val_test, train_size=P)\n",
    "#get_split_data_frame(raw_data, tmp, 'train')\n",
    "#get_split_data_frame(raw_data, tmp, 'val')\n",
    "#get_split_data_frame(raw_data, tmp, 'test')"
   ]
  },
  {
   "cell_type": "code",
   "execution_count": 50,
   "metadata": {},
   "outputs": [],
   "source": [
    "#TODO: check https://stackoverflow.com/questions/16489655/plotting-log-binned-network-degree-distributions\n",
    "\n",
    "def get_plot_distribution(c, xlabel):\n",
    "\n",
    "    dict_items=dict(c)\n",
    "    bla = dict(Counter(dict_items.values()))\n",
    "\n",
    "    plt.xscale('log')\n",
    "    plt.yscale('log')\n",
    "\n",
    "    plt.scatter(bla.keys(),bla.values(),c='b',marker='x')\n",
    "\n",
    "    #plt.xlim((1e-4,1e-1))\n",
    "    #plt.ylim((.8,1.1e2))\n",
    "    plt.xlabel(xlabel)\n",
    "    plt.ylabel('Frequency')\n",
    "    plt.show()"
   ]
  },
  {
   "cell_type": "code",
   "execution_count": 51,
   "metadata": {},
   "outputs": [
    {
     "data": {
      "image/png": "[encoded data removed]",
      "text/plain": [
       "<matplotlib.figure.Figure at 0x1183e7510>"
      ]
     },
     "metadata": {
      "image/png": {
       "height": 267,
       "width": 392
      }
     },
     "output_type": "display_data"
    },
    {
     "data": {
      "image/png": "[encoded data removed]",
      "text/plain": [
       "<matplotlib.figure.Figure at 0x1183e7f90>"
      ]
     },
     "metadata": {
      "image/png": {
       "height": 267,
       "width": 392
      }
     },
     "output_type": "display_data"
    }
   ],
   "source": [
    "get_plot_distribution(item_popularity, 'Items with x ratings')\n",
    "get_plot_distribution(user_activity, 'Users with x ratings')"
   ]
  },
  {
   "cell_type": "markdown",
   "metadata": {},
   "source": [
    "#### Filtering users from validation set"
   ]
  },
  {
   "cell_type": "code",
   "execution_count": 52,
   "metadata": {},
   "outputs": [],
   "source": [
    "print('There are unique users: %d training set, %d validation set and %d testing set' %\n",
    "     (len(pd.unique(train_raw_data['user_id'])), len(pd.unique(val_raw_data['user_id'])), len(pd.unique(test_raw_data['user_id']))))"
   ]
  },
  {
   "cell_type": "markdown",
   "metadata": {},
   "source": [
    "#### Filtering items from validation set"
   ]
  },
  {
   "cell_type": "code",
   "execution_count": 53,
   "metadata": {},
   "outputs": [],
   "source": [
    "print('There are unique items: %d training set, %d validation set and %d testing set' %\n",
    "     (len(pd.unique(train_raw_data['item_id'])), len(pd.unique(val_raw_data['item_id'])), len(pd.unique(test_raw_data['item_id']))))"
   ]
  },
  {
   "cell_type": "markdown",
   "metadata": {},
   "source": [
    "### Here, we guarantee that there is no item that appears only in valiation and testing"
   ]
  },
  {
   "cell_type": "code",
   "execution_count": 54,
   "metadata": {},
   "outputs": [],
   "source": [
    "train_items = train_raw_data['item_id'].values"
   ]
  },
  {
   "cell_type": "code",
   "execution_count": 55,
   "metadata": {},
   "outputs": [],
   "source": [
    "val_raw_data = val_raw_data[val_raw_data['item_id'].isin(train_items)]"
   ]
  },
  {
   "cell_type": "code",
   "execution_count": 56,
   "metadata": {},
   "outputs": [],
   "source": [
    "test_raw_data = test_raw_data[test_raw_data['item_id'].isin(train_items)]"
   ]
  },
  {
   "cell_type": "code",
   "execution_count": 57,
   "metadata": {},
   "outputs": [],
   "source": [
    "print('There are unique items: %d training set, %d validation set and %d testing set' %\n",
    "     (len(pd.unique(train_raw_data['item_id'])), len(pd.unique(val_raw_data['item_id'])), len(pd.unique(test_raw_data['item_id']))))"
   ]
  },
  {
   "cell_type": "code",
   "execution_count": 58,
   "metadata": {},
   "outputs": [],
   "source": [
    "raw_processed_data = pd.concat([train_raw_data, val_raw_data, test_raw_data])"
   ]
  },
  {
   "cell_type": "code",
   "execution_count": 59,
   "metadata": {},
   "outputs": [
    {
     "data": {
      "text/plain": [
       "(500607, 4)"
      ]
     },
     "execution_count": 59,
     "metadata": {},
     "output_type": "execute_result"
    }
   ],
   "source": [
    "raw_processed_data.shape"
   ]
  },
  {
   "cell_type": "code",
   "execution_count": 60,
   "metadata": {},
   "outputs": [],
   "source": [
    "print train_raw_data.shape, val_raw_data.shape, test_raw_data.shape, raw_processed_data.shape\n",
    "print (train_raw_data.shape[0]+val_raw_data.shape[0]+test_raw_data.shape[0] == raw_processed_data.shape[0]) # the whole\n",
    "# is the sum of partitions"
   ]
  },
  {
   "cell_type": "code",
   "execution_count": 61,
   "metadata": {},
   "outputs": [],
   "source": [
    "print 'Num users in:\\noverall: %d\\ntrain: %d\\nval: %d\\ntest:%d\\n' % (len(pd.unique(raw_processed_data['user_id'])),\n",
    "                                                               len(pd.unique(train_raw_data['user_id'])),\n",
    "                                                               len(pd.unique(val_raw_data['user_id'])),\n",
    "                                                               len(pd.unique(test_raw_data['user_id'])))"
   ]
  },
  {
   "cell_type": "code",
   "execution_count": 62,
   "metadata": {},
   "outputs": [],
   "source": [
    "print 'Num items in:\\noverall: %d\\ntrain: %d\\nval: %d\\ntest:%d\\n' % (len(pd.unique(raw_processed_data['item_id'])),\n",
    "                                                               len(pd.unique(train_raw_data['item_id'])),\n",
    "                                                               len(pd.unique(val_raw_data['item_id'])),\n",
    "                                                               len(pd.unique(test_raw_data['item_id'])))"
   ]
  },
  {
   "cell_type": "code",
   "execution_count": 63,
   "metadata": {},
   "outputs": [],
   "source": [
    "print 'Num ratings in:\\noverall: %d\\ntrain: %d\\nval: %d\\ntest:%d\\n' % (raw_processed_data.shape[0],\n",
    "                                                                      train_raw_data.shape[0],\n",
    "                                                                      val_raw_data.shape[0],\n",
    "                                                                      test_raw_data.shape[0])"
   ]
  },
  {
   "cell_type": "markdown",
   "metadata": {},
   "source": [
    "### Storing user and item ids"
   ]
  },
  {
   "cell_type": "code",
   "execution_count": 64,
   "metadata": {},
   "outputs": [],
   "source": [
    "raw_processed_data, user_activity, item_popularity = filter_triplets(raw_processed_data, min_items_per_user=0, min_ratings_per_item=0)"
   ]
  },
  {
   "cell_type": "code",
   "execution_count": 65,
   "metadata": {},
   "outputs": [],
   "source": [
    "print train_raw_data.shape, val_raw_data.shape, test_raw_data.shape, raw_processed_data.shape\n",
    "print (train_raw_data.shape[0]+val_raw_data.shape[0]+test_raw_data.shape[0] == raw_processed_data.shape[0]) # the whole\n",
    "# is the sum of partitions"
   ]
  },
  {
   "cell_type": "code",
   "execution_count": 66,
   "metadata": {},
   "outputs": [],
   "source": [
    "print output_dir"
   ]
  },
  {
   "cell_type": "code",
   "execution_count": 67,
   "metadata": {},
   "outputs": [
    {
     "data": {
      "text/plain": [
       "0"
      ]
     },
     "execution_count": 67,
     "metadata": {},
     "output_type": "execute_result"
    }
   ],
   "source": [
    "unique_user_id = user_activity.index\n",
    "unique_item_id = item_popularity.index\n",
    "\n",
    "user2id = dict((user_id, i) for (i, user_id) in enumerate(unique_user_id))\n",
    "item2id = dict((item_id, i) for (i, item_id) in enumerate(unique_item_id))\n",
    "\n",
    "os.system('mkdir -p %s' % (os.path.join(DATA_DIR, output_dir)))\n",
    "with open(os.path.join(DATA_DIR, output_dir, 'unique_user_id.dat'), 'w') as f:\n",
    "    for user_id in unique_user_id:\n",
    "        f.write('%s\\n' % user_id)\n",
    "\n",
    "with open(os.path.join(DATA_DIR, output_dir, 'unique_item_id.dat'), 'w') as f:\n",
    "    for item_id in unique_item_id:\n",
    "        f.write('%s\\n' % item_id)"
   ]
  },
  {
   "cell_type": "markdown",
   "metadata": {},
   "source": [
    "### Dump processed data as user_id,item_id,timestamp format"
   ]
  },
  {
   "cell_type": "code",
   "execution_count": 68,
   "metadata": {},
   "outputs": [],
   "source": [
    "def dump(data):\n",
    "    user_id = map(lambda x: user2id[x], data['user_id'])\n",
    "    item_id = map(lambda x: item2id[x], data['item_id'])\n",
    "    data['user_id'] = user_id\n",
    "    data['item_id'] = item_id\n",
    "    return data[['user_id', 'item_id', 'timestamp']]"
   ]
  },
  {
   "cell_type": "code",
   "execution_count": 69,
   "metadata": {},
   "outputs": [],
   "source": [
    "train_data = dump(train_raw_data.copy())\n",
    "train_data.to_csv(os.path.join(DATA_DIR, output_dir, 'train.dat'), index=False)\n",
    "\n",
    "validation_data = dump(val_raw_data.copy())\n",
    "validation_data.to_csv(os.path.join(DATA_DIR, output_dir, 'validation.dat'), index=False)\n",
    "\n",
    "test_data = dump(test_raw_data.copy())\n",
    "test_data.to_csv(os.path.join(DATA_DIR, output_dir, 'test.dat'), index=False)"
   ]
  },
  {
   "cell_type": "markdown",
   "metadata": {},
   "source": [
    "## Representation of textual content (tfidf and tf: from title+plot)\n",
    "\n",
    "### We consider the following criteria:\n",
    "\n",
    "- concatenate title and plot\n",
    "- remove stopwords\n",
    "- use tf-idf to choose top 8k words as vocabulary"
   ]
  },
  {
   "cell_type": "code",
   "execution_count": 70,
   "metadata": {},
   "outputs": [
    {
     "data": {
      "text/plain": [
       "(3823, 4)"
      ]
     },
     "execution_count": 70,
     "metadata": {},
     "output_type": "execute_result"
    }
   ],
   "source": [
    "content_data.shape"
   ]
  },
  {
   "cell_type": "code",
   "execution_count": 71,
   "metadata": {},
   "outputs": [],
   "source": [
    "content_data = content_data[content_data['id'].isin(pd.unique(train_raw_data['item_id']))]"
   ]
  },
  {
   "cell_type": "code",
   "execution_count": 72,
   "metadata": {},
   "outputs": [
    {
     "data": {
      "text/plain": [
       "(1521, 4)"
      ]
     },
     "execution_count": 72,
     "metadata": {},
     "output_type": "execute_result"
    }
   ],
   "source": [
    "content_data.shape"
   ]
  },
  {
   "cell_type": "code",
   "execution_count": 73,
   "metadata": {},
   "outputs": [
    {
     "data": {
      "text/html": [
       "<div>\n",
       "<style>\n",
       "    .dataframe thead tr:only-child th {\n",
       "        text-align: right;\n",
       "    }\n",
       "\n",
       "    .dataframe thead th {\n",
       "        text-align: left;\n",
       "    }\n",
       "\n",
       "    .dataframe tbody tr th {\n",
       "        vertical-align: top;\n",
       "    }\n",
       "</style>\n",
       "<table border=\"1\" class=\"dataframe\">\n",
       "  <thead>\n",
       "    <tr style=\"text-align: right;\">\n",
       "      <th></th>\n",
       "      <th>id</th>\n",
       "      <th>title</th>\n",
       "      <th>plot</th>\n",
       "      <th>large_cover</th>\n",
       "    </tr>\n",
       "  </thead>\n",
       "  <tbody>\n",
       "    <tr>\n",
       "      <th>0</th>\n",
       "      <td>1</td>\n",
       "      <td>Toy Story</td>\n",
       "      <td>A little boy named Andy loves to be in his roo...</td>\n",
       "      <td>0/1_large.jpg</td>\n",
       "    </tr>\n",
       "    <tr>\n",
       "      <th>1</th>\n",
       "      <td>2</td>\n",
       "      <td>Jumanji</td>\n",
       "      <td>After being trapped in a jungle board game for...</td>\n",
       "      <td>0/2_large.jpg</td>\n",
       "    </tr>\n",
       "    <tr>\n",
       "      <th>2</th>\n",
       "      <td>3</td>\n",
       "      <td>Grumpier Old Men</td>\n",
       "      <td>Things don't seem to change much in Wabasha Co...</td>\n",
       "      <td>0/3_large.jpg</td>\n",
       "    </tr>\n",
       "    <tr>\n",
       "      <th>5</th>\n",
       "      <td>6</td>\n",
       "      <td>Heat</td>\n",
       "      <td>Hunters and their prey--Neil and his professio...</td>\n",
       "      <td>0/6_large.jpg</td>\n",
       "    </tr>\n",
       "    <tr>\n",
       "      <th>6</th>\n",
       "      <td>7</td>\n",
       "      <td>Sabrina</td>\n",
       "      <td>While she was growing up Sabrina Fairchild spe...</td>\n",
       "      <td>0/7_large.jpg</td>\n",
       "    </tr>\n",
       "  </tbody>\n",
       "</table>\n",
       "</div>"
      ],
      "text/plain": [
       "   id             title                                               plot  \\\n",
       "0   1         Toy Story  A little boy named Andy loves to be in his roo...   \n",
       "1   2           Jumanji  After being trapped in a jungle board game for...   \n",
       "2   3  Grumpier Old Men  Things don't seem to change much in Wabasha Co...   \n",
       "5   6              Heat  Hunters and their prey--Neil and his professio...   \n",
       "6   7           Sabrina  While she was growing up Sabrina Fairchild spe...   \n",
       "\n",
       "     large_cover  \n",
       "0  0/1_large.jpg  \n",
       "1  0/2_large.jpg  \n",
       "2  0/3_large.jpg  \n",
       "5  0/6_large.jpg  \n",
       "6  0/7_large.jpg  "
      ]
     },
     "execution_count": 73,
     "metadata": {},
     "output_type": "execute_result"
    }
   ],
   "source": [
    "content_data.head()"
   ]
  },
  {
   "cell_type": "markdown",
   "metadata": {},
   "source": [
    "### reference for below functions: https://buhrmann.github.io/tfidf-analysis.html"
   ]
  },
  {
   "cell_type": "code",
   "execution_count": 74,
   "metadata": {},
   "outputs": [],
   "source": [
    "def top_tfidf_feats(tfv, row, features, top_n=25):\n",
    "    ''' Get top n tfidf values in row and return them with their corresponding feature names.'''\n",
    "    topn_ids   = np.argsort(row)[::-1][:top_n]\n",
    "    top_feats  = [(features[i], row[i], tfv.idf_[i]) for i in topn_ids]\n",
    "    df         = pd.DataFrame(top_feats)\n",
    "    df.columns = ['word', 'tfidf', 'idf']\n",
    "    return df[df['tfidf']>0]"
   ]
  },
  {
   "cell_type": "code",
   "execution_count": 75,
   "metadata": {},
   "outputs": [],
   "source": [
    "def top_feats_in_doc(tfv, Xtr, features, row_id, top_n=25):\n",
    "    ''' Top tfidf features in specific document (matrix row) '''\n",
    "    row = np.squeeze(Xtr[row_id].toarray())\n",
    "    return top_tfidf_feats(tfv, row, features, top_n)"
   ]
  },
  {
   "cell_type": "code",
   "execution_count": 76,
   "metadata": {},
   "outputs": [],
   "source": [
    "# Getting top VOCABULARY_SIZE words from plot according to tfidf\n",
    "output_vocabulary_file = os.path.join(DATA_DIR, '%s/vocabulary_%s.csv' % (output_dir, DATASET_ID))\n",
    "force = False # force vocabulary construction, this may take a while\n",
    "\n",
    "vocab = list()\n",
    "if force or not os.path.exists(output_vocabulary_file):\n",
    "\n",
    "    VOCABULARY_SIZE = 8000\n",
    "\n",
    "    tfv = TfidfVectorizer(strip_accents='unicode',\n",
    "                          analyzer=\"word\", token_pattern=r'\\w{1,}',stop_words='english',\n",
    "                          decode_error='replace', encoding='utf-8')\n",
    "    \n",
    "    description   = content_data['title'].astype(str).str.cat(content_data['plot'].astype(str), sep=' ')\n",
    "    tfidf_matrix  = tfv.fit_transform(description.values.astype('U'))\n",
    "    feature_names = tfv.get_feature_names()\n",
    "    \n",
    "    result = pd.DataFrame()\n",
    "    for i in range(len(description)):\n",
    "        tmp = top_feats_in_doc(tfv, tfidf_matrix, feature_names,i)\n",
    "        result = pd.concat([tmp, result])\n",
    "        \n",
    "    result = result.groupby('word', sort=False, as_index=True).max().reset_index().sort_values(['tfidf'], ascending=False)[:VOCABULARY_SIZE]\n",
    "\n",
    "    result.to_csv(output_vocabulary_file, index=False)\n",
    "    vocab = list(result['word'].values.astype(str))\n",
    "    \n",
    "else: # read vocabulary file\n",
    "    print 'reading %s' % (output_vocabulary_file)\n",
    "    with open(output_vocabulary_file, 'r') as infile:\n",
    "        reader = csv.reader(infile)\n",
    "        reader.next() # ignoring header\n",
    "        for rows in reader:\n",
    "            vocab.append(rows[0])\n",
    "        \n",
    "print 'Vocabulary size %s' % (len(vocab))"
   ]
  },
  {
   "cell_type": "code",
   "execution_count": 77,
   "metadata": {},
   "outputs": [],
   "source": [
    "def rep_dict(doc, vectorizer, feat_names):\n",
    "    tmp_doc_vec = vectorizer.transform([doc])\n",
    "    result = {'%s'.encode('utf-8') % (feat_names[col]):float('%.5f' % (tmp_doc_vec[0,col])) \n",
    "              for col in tmp_doc_vec[0,:].nonzero()[1]}\n",
    "    return result"
   ]
  },
  {
   "cell_type": "code",
   "execution_count": 78,
   "metadata": {},
   "outputs": [],
   "source": [
    "# Getting tfidf representation of items\n",
    "tfv = TfidfVectorizer(strip_accents='unicode',\n",
    "                      analyzer=\"word\", token_pattern=r'\\w{1,}',stop_words='english',\n",
    "                      decode_error='replace', encoding='utf-8',\n",
    "                      vocabulary=vocab)\n",
    "description   = content_data['title'].astype(str).str.cat(content_data['plot'].astype(str), sep=' ')\n",
    "tfidf_matrix  = tfv.fit_transform(description.values.astype('U'))\n",
    "feature_names = tfv.get_feature_names()\n",
    "content_data['tfidf_title_plot']  = description.apply(lambda x : rep_dict(x, tfv, feature_names))"
   ]
  },
  {
   "cell_type": "code",
   "execution_count": 79,
   "metadata": {},
   "outputs": [
    {
     "data": {
      "text/html": [
       "<div>\n",
       "<style>\n",
       "    .dataframe thead tr:only-child th {\n",
       "        text-align: right;\n",
       "    }\n",
       "\n",
       "    .dataframe thead th {\n",
       "        text-align: left;\n",
       "    }\n",
       "\n",
       "    .dataframe tbody tr th {\n",
       "        vertical-align: top;\n",
       "    }\n",
       "</style>\n",
       "<table border=\"1\" class=\"dataframe\">\n",
       "  <thead>\n",
       "    <tr style=\"text-align: right;\">\n",
       "      <th></th>\n",
       "      <th>id</th>\n",
       "      <th>title</th>\n",
       "      <th>plot</th>\n",
       "      <th>large_cover</th>\n",
       "      <th>tfidf_title_plot</th>\n",
       "    </tr>\n",
       "  </thead>\n",
       "  <tbody>\n",
       "    <tr>\n",
       "      <th>0</th>\n",
       "      <td>1</td>\n",
       "      <td>Toy Story</td>\n",
       "      <td>A little boy named Andy loves to be in his roo...</td>\n",
       "      <td>0/1_large.jpg</td>\n",
       "      <td>{u'separated': 0.02565, u'named': 0.05449, u'f...</td>\n",
       "    </tr>\n",
       "    <tr>\n",
       "      <th>1</th>\n",
       "      <td>2</td>\n",
       "      <td>Jumanji</td>\n",
       "      <td>After being trapped in a jungle board game for...</td>\n",
       "      <td>0/2_large.jpg</td>\n",
       "      <td>{u'magical': 0.10177, u'old': 0.0237, u'help':...</td>\n",
       "    </tr>\n",
       "    <tr>\n",
       "      <th>2</th>\n",
       "      <td>3</td>\n",
       "      <td>Grumpier Old Men</td>\n",
       "      <td>Things don't seem to change much in Wabasha Co...</td>\n",
       "      <td>0/3_large.jpg</td>\n",
       "      <td>{u'shop': 0.19317, u'married': 0.06909, u'old'...</td>\n",
       "    </tr>\n",
       "    <tr>\n",
       "      <th>5</th>\n",
       "      <td>6</td>\n",
       "      <td>Heat</td>\n",
       "      <td>Hunters and their prey--Neil and his professio...</td>\n",
       "      <td>0/6_large.jpg</td>\n",
       "      <td>{u'detective': 0.07956, u'major': 0.07907, u'3...</td>\n",
       "    </tr>\n",
       "    <tr>\n",
       "      <th>6</th>\n",
       "      <td>7</td>\n",
       "      <td>Sabrina</td>\n",
       "      <td>While she was growing up Sabrina Fairchild spe...</td>\n",
       "      <td>0/7_large.jpg</td>\n",
       "      <td>{u'dollar': 0.02977, u'soon': 0.01324, u'years...</td>\n",
       "    </tr>\n",
       "  </tbody>\n",
       "</table>\n",
       "</div>"
      ],
      "text/plain": [
       "   id             title                                               plot  \\\n",
       "0   1         Toy Story  A little boy named Andy loves to be in his roo...   \n",
       "1   2           Jumanji  After being trapped in a jungle board game for...   \n",
       "2   3  Grumpier Old Men  Things don't seem to change much in Wabasha Co...   \n",
       "5   6              Heat  Hunters and their prey--Neil and his professio...   \n",
       "6   7           Sabrina  While she was growing up Sabrina Fairchild spe...   \n",
       "\n",
       "     large_cover                                   tfidf_title_plot  \n",
       "0  0/1_large.jpg  {u'separated': 0.02565, u'named': 0.05449, u'f...  \n",
       "1  0/2_large.jpg  {u'magical': 0.10177, u'old': 0.0237, u'help':...  \n",
       "2  0/3_large.jpg  {u'shop': 0.19317, u'married': 0.06909, u'old'...  \n",
       "5  0/6_large.jpg  {u'detective': 0.07956, u'major': 0.07907, u'3...  \n",
       "6  0/7_large.jpg  {u'dollar': 0.02977, u'soon': 0.01324, u'years...  "
      ]
     },
     "execution_count": 79,
     "metadata": {},
     "output_type": "execute_result"
    }
   ],
   "source": [
    "content_data.head()"
   ]
  },
  {
   "cell_type": "code",
   "execution_count": 80,
   "metadata": {},
   "outputs": [],
   "source": [
    "# Getting tf representation of items\n",
    "cfv = CountVectorizer(strip_accents='unicode',\n",
    "                      analyzer=\"word\", token_pattern=r'\\w{1,}',stop_words='english',\n",
    "                      decode_error='replace', encoding='utf-8',\n",
    "                      vocabulary=vocab)\n",
    "description = content_data['title'].astype(str).str.cat(content_data['plot'].astype(str), sep=' ')\n",
    "tf_matrix  = tfv.fit_transform(description.values.astype('U'))\n",
    "feature_names = tfv.get_feature_names()\n",
    "content_data['tf_title_plot']  = description.apply(lambda x : rep_dict(x, cfv, feature_names))"
   ]
  },
  {
   "cell_type": "code",
   "execution_count": 81,
   "metadata": {},
   "outputs": [
    {
     "data": {
      "text/html": [
       "<div>\n",
       "<style>\n",
       "    .dataframe thead tr:only-child th {\n",
       "        text-align: right;\n",
       "    }\n",
       "\n",
       "    .dataframe thead th {\n",
       "        text-align: left;\n",
       "    }\n",
       "\n",
       "    .dataframe tbody tr th {\n",
       "        vertical-align: top;\n",
       "    }\n",
       "</style>\n",
       "<table border=\"1\" class=\"dataframe\">\n",
       "  <thead>\n",
       "    <tr style=\"text-align: right;\">\n",
       "      <th></th>\n",
       "      <th>id</th>\n",
       "      <th>title</th>\n",
       "      <th>plot</th>\n",
       "      <th>large_cover</th>\n",
       "      <th>tfidf_title_plot</th>\n",
       "      <th>tf_title_plot</th>\n",
       "    </tr>\n",
       "  </thead>\n",
       "  <tbody>\n",
       "    <tr>\n",
       "      <th>0</th>\n",
       "      <td>1</td>\n",
       "      <td>Toy Story</td>\n",
       "      <td>A little boy named Andy loves to be in his roo...</td>\n",
       "      <td>0/1_large.jpg</td>\n",
       "      <td>{u'separated': 0.02565, u'named': 0.05449, u'f...</td>\n",
       "      <td>{u'reunite': 1.0, u'real': 1.0, u'cadet': 1.0,...</td>\n",
       "    </tr>\n",
       "    <tr>\n",
       "      <th>1</th>\n",
       "      <td>2</td>\n",
       "      <td>Jumanji</td>\n",
       "      <td>After being trapped in a jungle board game for...</td>\n",
       "      <td>0/2_large.jpg</td>\n",
       "      <td>{u'magical': 0.10177, u'old': 0.0237, u'help':...</td>\n",
       "      <td>{u'old': 1.0, u'help': 1.0, u'suddenly': 1.0, ...</td>\n",
       "    </tr>\n",
       "    <tr>\n",
       "      <th>2</th>\n",
       "      <td>3</td>\n",
       "      <td>Grumpier Old Men</td>\n",
       "      <td>Things don't seem to change much in Wabasha Co...</td>\n",
       "      <td>0/3_large.jpg</td>\n",
       "      <td>{u'shop': 0.19317, u'married': 0.06909, u'old'...</td>\n",
       "      <td>{u'shop': 2.0, u'months': 1.0, u'bait': 2.0, u...</td>\n",
       "    </tr>\n",
       "    <tr>\n",
       "      <th>5</th>\n",
       "      <td>6</td>\n",
       "      <td>Heat</td>\n",
       "      <td>Hunters and their prey--Neil and his professio...</td>\n",
       "      <td>0/6_large.jpg</td>\n",
       "      <td>{u'detective': 0.07956, u'major': 0.07907, u'3...</td>\n",
       "      <td>{u'detective': 2.0, u'major': 2.0, u'30': 1.0,...</td>\n",
       "    </tr>\n",
       "    <tr>\n",
       "      <th>6</th>\n",
       "      <td>7</td>\n",
       "      <td>Sabrina</td>\n",
       "      <td>While she was growing up Sabrina Fairchild spe...</td>\n",
       "      <td>0/7_large.jpg</td>\n",
       "      <td>{u'dollar': 0.02977, u'soon': 0.01324, u'years...</td>\n",
       "      <td>{u'dollar': 1.0, u'soon': 1.0, u'years': 3.0, ...</td>\n",
       "    </tr>\n",
       "  </tbody>\n",
       "</table>\n",
       "</div>"
      ],
      "text/plain": [
       "   id             title                                               plot  \\\n",
       "0   1         Toy Story  A little boy named Andy loves to be in his roo...   \n",
       "1   2           Jumanji  After being trapped in a jungle board game for...   \n",
       "2   3  Grumpier Old Men  Things don't seem to change much in Wabasha Co...   \n",
       "5   6              Heat  Hunters and their prey--Neil and his professio...   \n",
       "6   7           Sabrina  While she was growing up Sabrina Fairchild spe...   \n",
       "\n",
       "     large_cover                                   tfidf_title_plot  \\\n",
       "0  0/1_large.jpg  {u'separated': 0.02565, u'named': 0.05449, u'f...   \n",
       "1  0/2_large.jpg  {u'magical': 0.10177, u'old': 0.0237, u'help':...   \n",
       "2  0/3_large.jpg  {u'shop': 0.19317, u'married': 0.06909, u'old'...   \n",
       "5  0/6_large.jpg  {u'detective': 0.07956, u'major': 0.07907, u'3...   \n",
       "6  0/7_large.jpg  {u'dollar': 0.02977, u'soon': 0.01324, u'years...   \n",
       "\n",
       "                                       tf_title_plot  \n",
       "0  {u'reunite': 1.0, u'real': 1.0, u'cadet': 1.0,...  \n",
       "1  {u'old': 1.0, u'help': 1.0, u'suddenly': 1.0, ...  \n",
       "2  {u'shop': 2.0, u'months': 1.0, u'bait': 2.0, u...  \n",
       "5  {u'detective': 2.0, u'major': 2.0, u'30': 1.0,...  \n",
       "6  {u'dollar': 1.0, u'soon': 1.0, u'years': 3.0, ...  "
      ]
     },
     "execution_count": 81,
     "metadata": {},
     "output_type": "execute_result"
    }
   ],
   "source": [
    "content_data.head()"
   ]
  },
  {
   "cell_type": "code",
   "execution_count": 82,
   "metadata": {},
   "outputs": [],
   "source": [
    "# dump textual representations\n",
    "content_data.to_csv(os.path.join(DATA_DIR, output_dir, 'tf_title_plot.csv'), \n",
    "                    columns=['id', 'tf_title_plot'], index=False)\n",
    "content_data.to_csv(os.path.join(DATA_DIR, output_dir, 'tfidf_title_plot.csv'), \n",
    "                    columns=['id', 'tfidf_title_plot'], index=False)"
   ]
  },
  {
   "cell_type": "markdown",
   "metadata": {},
   "source": [
    "## Checking if there is content for all items in train, validation, and test sets"
   ]
  },
  {
   "cell_type": "code",
   "execution_count": 83,
   "metadata": {},
   "outputs": [],
   "source": [
    "a = set(valid_content_movie_ids)\n",
    "b = set(pd.unique(train_raw_data['item_id']))\n",
    "c = set(pd.unique(val_raw_data['item_id']))\n",
    "d = set(pd.unique(test_raw_data['item_id']))"
   ]
  },
  {
   "cell_type": "code",
   "execution_count": 84,
   "metadata": {},
   "outputs": [],
   "source": [
    "print len(b.difference(a))\n",
    "print len(c.difference(a))\n",
    "print len(d.difference(a))"
   ]
  },
  {
   "cell_type": "markdown",
   "metadata": {},
   "source": [
    "Ok, we have all descriptions that we need!"
   ]
  },
  {
   "cell_type": "markdown",
   "metadata": {},
   "source": [
    "## After filtering, we have a dataset with these numbers:"
   ]
  },
  {
   "cell_type": "code",
   "execution_count": 85,
   "metadata": {},
   "outputs": [],
   "source": [
    "num_users   = len(pd.unique(raw_processed_data['user_id']))\n",
    "num_items   = len(pd.unique(raw_processed_data['item_id']))\n",
    "num_ratings = raw_processed_data['rating'].shape[0]\n",
    "sparsity    = 1. * raw_processed_data.shape[0] / (num_users * num_items)\n",
    "print '#users %s #items %s #ratings %s (sparsity: %.3f)' % (num_users, num_items, num_ratings, sparsity)"
   ]
  },
  {
   "cell_type": "code",
   "execution_count": 87,
   "metadata": {},
   "outputs": [
    {
     "data": {
      "text/plain": [
       "(5867, 1521, 500607, 0.05609854738619276)"
      ]
     },
     "execution_count": 87,
     "metadata": {},
     "output_type": "execute_result"
    }
   ],
   "source": [
    "(num_users, num_items, num_ratings, sparsity)"
   ]
  },
  {
   "cell_type": "code",
   "execution_count": null,
   "metadata": {},
   "outputs": [],
   "source": []
  }
 ],
 "metadata": {
  "kernelspec": {
   "display_name": "Python 2",
   "language": "python",
   "name": "python2"
  },
  "language_info": {
   "codemirror_mode": {
    "name": "ipython",
    "version": 2
   },
   "file_extension": ".py",
   "mimetype": "text/x-python",
   "name": "python",
   "nbconvert_exporter": "python",
   "pygments_lexer": "ipython2",
   "version": "2.7.12"
  }
 },
 "nbformat": 4,
 "nbformat_minor": 1
}
