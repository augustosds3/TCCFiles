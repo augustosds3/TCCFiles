{
 "cells": [
  {
   "cell_type": "markdown",
   "metadata": {},
   "source": [
    "# Preprocessing ratings and textual content for MovieLens datasets"
   ]
  },
  {
   "cell_type": "markdown",
   "metadata": {
    "collapsed": true
   },
   "source": [
    "Here, we follow the procedure as that in:\n",
    "\n",
    "- CDL (KDD'15)  : Collaborative deep learning for recommender systems\n",
    "- CRAE (NIPS'16): Collaborative Recurrent Autoencoder: Recommend while Learning to Fill in the Blanks\n",
    "- CVAE (KDD'17) : Collaborative Variational Autoencoder for Recommender Systems\n",
    "\n",
    "-  (IJCAI'13) : Collaborative topic regression with social regularization for tag recommendation.\n",
    "-  (TKDE'15) : Relational collaborative topic regression for recommender systems.\n",
    "\n",
    "which consists in:\n",
    "\n",
    "- for each user:\n",
    "  - randomly select P (1 and 10) items for training, and the rest as test\n",
    "  - repeat the evaluation five times with different training set for each value of P\n",
    "  - (TODO) use 5-fold cross-validation to find the optimal hyperparameters of CRAE and the baselines"
   ]
  },
  {
   "cell_type": "code",
   "execution_count": 1,
   "metadata": {},
   "outputs": [],
   "source": [
    "import datetime\n",
    "import json\n",
    "import os\n",
    "import time\n",
    "import numpy as np\n",
    "\n",
    "import sys\n",
    "reload(sys)  \n",
    "sys.setdefaultencoding('utf8')\n",
    "\n",
    "import matplotlib\n",
    "matplotlib.use('Agg')\n",
    "import matplotlib.pyplot as plt\n",
    "%matplotlib inline\n",
    "\n",
    "from collections import Counter\n",
    "from numpy import log10\n",
    "\n",
    "import pandas as pd\n",
    "import scipy.sparse\n",
    "\n",
    "from sklearn.feature_extraction.text import TfidfVectorizer, CountVectorizer\n",
    "from operator import itemgetter\n",
    "from collections import defaultdict\n",
    "import csv\n",
    "\n",
    "import seaborn as sns\n",
    "sns.set(context=\"paper\", font_scale=1.5, rc={\"lines.linewidth\": 2}, font='Serif')\n",
    "%config InlineBackend.figure_format = 'retina'\n",
    "\n",
    "from IPython.core.interactiveshell import InteractiveShell\n",
    "InteractiveShell.ast_node_interactivity = \"all\"\n",
    "csv.field_size_limit(sys.maxsize)"
   ]
  },
  {
   "cell_type": "markdown",
   "metadata": {},
   "source": [
    "## First, specify dataset version and input directory"
   ]
  },
  {
   "cell_type": "code",
   "execution_count": 2,
   "metadata": {},
   "outputs": [],
   "source": [
    "DATASET_ID = 'ml-10m'\n",
    "DATA_DIR   = '/media/augusto/Data2/Dataset/Preprocess_Dataset'\n",
    "MIN_RATING = 3 # hence, we only consider ratings > 3\n",
    "\n",
    "P            = 1\n",
    "execution_id = 1\n",
    "seed_P_E     = execution_id\n",
    "output_dir   = 'pro/P_%s_E_%s' % (P, execution_id)"
   ]
  },
  {
   "cell_type": "code",
   "execution_count": 3,
   "metadata": {},
   "outputs": [],
   "source": [
    "np.random.seed(0)"
   ]
  },
  {
   "cell_type": "markdown",
   "metadata": {},
   "source": [
    "## Filtering content data\n",
    "\n",
    "### Here we identify movies:\n",
    "\n",
    "- with title and plot empty content"
   ]
  },
  {
   "cell_type": "code",
   "execution_count": 4,
   "metadata": {},
   "outputs": [],
   "source": [
    "columns      = ['description','title', 'views', 'ownerId', 'id', 'tags','favorites']\n",
    "content_data = pd.read_csv(os.path.join(DATA_DIR, 'noWhite.csv'),\n",
    "                           sep=',',\n",
    "                           header=0,\n",
    "                           usecols=['id', 'title','description'],\n",
    "                           engine='python')"
   ]
  },
  {
   "cell_type": "code",
   "execution_count": 6,
   "metadata": {},
   "outputs": [
    {
     "data": {
      "text/plain": [
       "(73146, 3)"
      ]
     },
     "execution_count": 6,
     "metadata": {},
     "output_type": "execute_result"
    }
   ],
   "source": [
    "content_data.shape"
   ]
  },
  {
   "cell_type": "code",
   "execution_count": 7,
   "metadata": {},
   "outputs": [
    {
     "data": {
      "text/html": [
       "<div>\n",
       "<style scoped>\n",
       "    .dataframe tbody tr th:only-of-type {\n",
       "        vertical-align: middle;\n",
       "    }\n",
       "\n",
       "    .dataframe tbody tr th {\n",
       "        vertical-align: top;\n",
       "    }\n",
       "\n",
       "    .dataframe thead th {\n",
       "        text-align: right;\n",
       "    }\n",
       "</style>\n",
       "<table border=\"1\" class=\"dataframe\">\n",
       "  <thead>\n",
       "    <tr style=\"text-align: right;\">\n",
       "      <th></th>\n",
       "      <th>description</th>\n",
       "      <th>title</th>\n",
       "      <th>id</th>\n",
       "    </tr>\n",
       "  </thead>\n",
       "  <tbody>\n",
       "    <tr>\n",
       "      <th>0</th>\n",
       "      <td>Smile On Saturday @ Seasons Beauty\\nHappy Eart...</td>\n",
       "      <td>Rhodies - Happy Earth Day</td>\n",
       "      <td>33390536153</td>\n",
       "    </tr>\n",
       "    <tr>\n",
       "      <th>1</th>\n",
       "      <td>A  three seed bagel \\nsesame\\npoppy seed\\nsunf...</td>\n",
       "      <td>MacroMondays  #Seed</td>\n",
       "      <td>34096811425</td>\n",
       "    </tr>\n",
       "    <tr>\n",
       "      <th>2</th>\n",
       "      <td>No Extra-Terrestrials here, just  some broken ...</td>\n",
       "      <td>Alien Ship Crash Landing</td>\n",
       "      <td>33153645404</td>\n",
       "    </tr>\n",
       "    <tr>\n",
       "      <th>3</th>\n",
       "      <td>Submitted to Macro Mondays #Glaze\\nOne of my M...</td>\n",
       "      <td>He's got that glazed look in his eyes</td>\n",
       "      <td>33798476062</td>\n",
       "    </tr>\n",
       "    <tr>\n",
       "      <th>4</th>\n",
       "      <td>7DWF Thursday B&amp;amp;W</td>\n",
       "      <td>Listening To The Song Of The Sea</td>\n",
       "      <td>33491411450</td>\n",
       "    </tr>\n",
       "  </tbody>\n",
       "</table>\n",
       "</div>"
      ],
      "text/plain": [
       "                                         description  \\\n",
       "0  Smile On Saturday @ Seasons Beauty\\nHappy Eart...   \n",
       "1  A  three seed bagel \\nsesame\\npoppy seed\\nsunf...   \n",
       "2  No Extra-Terrestrials here, just  some broken ...   \n",
       "3  Submitted to Macro Mondays #Glaze\\nOne of my M...   \n",
       "4                              7DWF Thursday B&amp;W   \n",
       "\n",
       "                                   title           id  \n",
       "0              Rhodies - Happy Earth Day  33390536153  \n",
       "1                    MacroMondays  #Seed  34096811425  \n",
       "2               Alien Ship Crash Landing  33153645404  \n",
       "3  He's got that glazed look in his eyes  33798476062  \n",
       "4       Listening To The Song Of The Sea  33491411450  "
      ]
     },
     "execution_count": 7,
     "metadata": {},
     "output_type": "execute_result"
    }
   ],
   "source": [
    "content_data.head()"
   ]
  },
  {
   "cell_type": "code",
   "execution_count": 8,
   "metadata": {},
   "outputs": [
    {
     "data": {
      "text/plain": [
       "description      0\n",
       "title          797\n",
       "id               0\n",
       "dtype: int64"
      ]
     },
     "execution_count": 8,
     "metadata": {},
     "output_type": "execute_result"
    }
   ],
   "source": [
    "# Checking for missing data\n",
    "content_data.isnull().sum()"
   ]
  },
  {
   "cell_type": "markdown",
   "metadata": {},
   "source": [
    "There are 1059 movies without title and 1081 movies without plot. We are going to drop them from the dataset"
   ]
  },
  {
   "cell_type": "code",
   "execution_count": 9,
   "metadata": {},
   "outputs": [],
   "source": [
    "content_data = content_data.dropna(axis=0) # axis = 0 means drop lines"
   ]
  },
  {
   "cell_type": "code",
   "execution_count": 10,
   "metadata": {},
   "outputs": [
    {
     "data": {
      "text/plain": [
       "(72349, 3)"
      ]
     },
     "execution_count": 10,
     "metadata": {},
     "output_type": "execute_result"
    }
   ],
   "source": [
    "content_data.shape"
   ]
  },
  {
   "cell_type": "code",
   "execution_count": 11,
   "metadata": {},
   "outputs": [
    {
     "data": {
      "text/plain": [
       "description    0\n",
       "title          0\n",
       "id             0\n",
       "dtype: int64"
      ]
     },
     "execution_count": 11,
     "metadata": {},
     "output_type": "execute_result"
    }
   ],
   "source": [
    "content_data.isnull().sum()"
   ]
  },
  {
   "cell_type": "code",
   "execution_count": 12,
   "metadata": {},
   "outputs": [],
   "source": [
    "valid_content_movie_ids = pd.unique(content_data['id'])"
   ]
  },
  {
   "cell_type": "code",
   "execution_count": 13,
   "metadata": {},
   "outputs": [
    {
     "data": {
      "text/plain": [
       "71462"
      ]
     },
     "execution_count": 13,
     "metadata": {},
     "output_type": "execute_result"
    }
   ],
   "source": [
    "len(valid_content_movie_ids)"
   ]
  },
  {
   "cell_type": "markdown",
   "metadata": {},
   "source": [
    "## Filtering rating data\n",
    "\n",
    "### We drop instances with:\n",
    "\n",
    "- movies with empty title and plot description\n",
    "- ratings smaller than MIN_RATING\n",
    "- users with less than 10 ratings\n",
    "- items with less than 10 ratings"
   ]
  },
  {
   "cell_type": "code",
   "execution_count": 14,
   "metadata": {},
   "outputs": [],
   "source": [
    "columns  = ['userID', 'pictureID', 'title']\n",
    "raw_data = pd.read_csv(os.path.join(DATA_DIR, 'ratings.csv'), \n",
    "                       sep=',',\n",
    "                       header=0,\n",
    "                       usecols=['userID', 'pictureID', 'title'],\n",
    "                       engine='python')"
   ]
  },
  {
   "cell_type": "code",
   "execution_count": 15,
   "metadata": {},
   "outputs": [
    {
     "data": {
      "text/html": [
       "<div>\n",
       "<style scoped>\n",
       "    .dataframe tbody tr th:only-of-type {\n",
       "        vertical-align: middle;\n",
       "    }\n",
       "\n",
       "    .dataframe tbody tr th {\n",
       "        vertical-align: top;\n",
       "    }\n",
       "\n",
       "    .dataframe thead th {\n",
       "        text-align: right;\n",
       "    }\n",
       "</style>\n",
       "<table border=\"1\" class=\"dataframe\">\n",
       "  <thead>\n",
       "    <tr style=\"text-align: right;\">\n",
       "      <th></th>\n",
       "      <th>pictureID</th>\n",
       "      <th>userID</th>\n",
       "      <th>title</th>\n",
       "    </tr>\n",
       "  </thead>\n",
       "  <tbody>\n",
       "    <tr>\n",
       "      <th>0</th>\n",
       "      <td>33390536153</td>\n",
       "      <td>135122603@N04</td>\n",
       "      <td>Rhodies - Happy Earth Day</td>\n",
       "    </tr>\n",
       "    <tr>\n",
       "      <th>1</th>\n",
       "      <td>33390536153</td>\n",
       "      <td>32953505@N03</td>\n",
       "      <td>Rhodies - Happy Earth Day</td>\n",
       "    </tr>\n",
       "    <tr>\n",
       "      <th>2</th>\n",
       "      <td>33390536153</td>\n",
       "      <td>127131866@N08</td>\n",
       "      <td>Rhodies - Happy Earth Day</td>\n",
       "    </tr>\n",
       "    <tr>\n",
       "      <th>3</th>\n",
       "      <td>33390536153</td>\n",
       "      <td>139028000@N04</td>\n",
       "      <td>Rhodies - Happy Earth Day</td>\n",
       "    </tr>\n",
       "    <tr>\n",
       "      <th>4</th>\n",
       "      <td>33390536153</td>\n",
       "      <td>121022422@N02</td>\n",
       "      <td>Rhodies - Happy Earth Day</td>\n",
       "    </tr>\n",
       "  </tbody>\n",
       "</table>\n",
       "</div>"
      ],
      "text/plain": [
       "     pictureID         userID                      title\n",
       "0  33390536153  135122603@N04  Rhodies - Happy Earth Day\n",
       "1  33390536153   32953505@N03  Rhodies - Happy Earth Day\n",
       "2  33390536153  127131866@N08  Rhodies - Happy Earth Day\n",
       "3  33390536153  139028000@N04  Rhodies - Happy Earth Day\n",
       "4  33390536153  121022422@N02  Rhodies - Happy Earth Day"
      ]
     },
     "execution_count": 15,
     "metadata": {},
     "output_type": "execute_result"
    }
   ],
   "source": [
    "raw_data.head()"
   ]
  },
  {
   "cell_type": "code",
   "execution_count": 16,
   "metadata": {},
   "outputs": [
    {
     "data": {
      "text/plain": [
       "(16361376, 3)"
      ]
     },
     "execution_count": 16,
     "metadata": {},
     "output_type": "execute_result"
    }
   ],
   "source": [
    "raw_data.shape # approx. 1 million ratings"
   ]
  },
  {
   "cell_type": "code",
   "execution_count": 17,
   "metadata": {},
   "outputs": [],
   "source": [
    "raw_data = raw_data.drop_duplicates(['userID', 'pictureID', 'title'])"
   ]
  },
  {
   "cell_type": "code",
   "execution_count": 18,
   "metadata": {},
   "outputs": [
    {
     "data": {
      "text/plain": [
       "(16057180, 3)"
      ]
     },
     "execution_count": 18,
     "metadata": {},
     "output_type": "execute_result"
    }
   ],
   "source": [
    "raw_data.shape # there are not duplicates"
   ]
  },
  {
   "cell_type": "code",
   "execution_count": 19,
   "metadata": {},
   "outputs": [],
   "source": [
    "# dropping images with empty content/ Fotos que existem na nossa lista de fotos\n",
    "raw_data = raw_data[raw_data['pictureID'].isin(valid_content_movie_ids)] "
   ]
  },
  {
   "cell_type": "code",
   "execution_count": 20,
   "metadata": {},
   "outputs": [
    {
     "data": {
      "text/plain": [
       "(15747752, 3)"
      ]
     },
     "execution_count": 20,
     "metadata": {},
     "output_type": "execute_result"
    }
   ],
   "source": [
    "raw_data.shape"
   ]
  },
  {
   "cell_type": "code",
   "execution_count": 21,
   "metadata": {},
   "outputs": [
    {
     "data": {
      "text/plain": [
       "pictureID    0\n",
       "userID       0\n",
       "title        0\n",
       "dtype: int64"
      ]
     },
     "execution_count": 21,
     "metadata": {},
     "output_type": "execute_result"
    }
   ],
   "source": [
    "raw_data.isnull().sum()"
   ]
  },
  {
   "cell_type": "code",
   "execution_count": 22,
   "metadata": {},
   "outputs": [
    {
     "data": {
      "text/plain": [
       "count    1.574775e+07\n",
       "mean     2.995893e+10\n",
       "std      6.973462e+09\n",
       "min      1.142986e+08\n",
       "25%      2.596810e+10\n",
       "50%      3.193317e+10\n",
       "75%      3.523844e+10\n",
       "max      4.053034e+10\n",
       "Name: pictureID, dtype: float64"
      ]
     },
     "execution_count": 22,
     "metadata": {},
     "output_type": "execute_result"
    }
   ],
   "source": [
    "raw_data['pictureID'].describe()"
   ]
  },
  {
   "cell_type": "code",
   "execution_count": 23,
   "metadata": {},
   "outputs": [
    {
     "data": {
      "text/plain": [
       "(15747752, 3)"
      ]
     },
     "execution_count": 23,
     "metadata": {},
     "output_type": "execute_result"
    }
   ],
   "source": [
    "raw_data.shape"
   ]
  },
  {
   "cell_type": "code",
   "execution_count": 24,
   "metadata": {},
   "outputs": [
    {
     "data": {
      "text/html": [
       "<div>\n",
       "<style scoped>\n",
       "    .dataframe tbody tr th:only-of-type {\n",
       "        vertical-align: middle;\n",
       "    }\n",
       "\n",
       "    .dataframe tbody tr th {\n",
       "        vertical-align: top;\n",
       "    }\n",
       "\n",
       "    .dataframe thead th {\n",
       "        text-align: right;\n",
       "    }\n",
       "</style>\n",
       "<table border=\"1\" class=\"dataframe\">\n",
       "  <thead>\n",
       "    <tr style=\"text-align: right;\">\n",
       "      <th></th>\n",
       "      <th>pictureID</th>\n",
       "      <th>userID</th>\n",
       "      <th>title</th>\n",
       "    </tr>\n",
       "  </thead>\n",
       "  <tbody>\n",
       "    <tr>\n",
       "      <th>0</th>\n",
       "      <td>33390536153</td>\n",
       "      <td>135122603@N04</td>\n",
       "      <td>Rhodies - Happy Earth Day</td>\n",
       "    </tr>\n",
       "    <tr>\n",
       "      <th>1</th>\n",
       "      <td>33390536153</td>\n",
       "      <td>32953505@N03</td>\n",
       "      <td>Rhodies - Happy Earth Day</td>\n",
       "    </tr>\n",
       "    <tr>\n",
       "      <th>2</th>\n",
       "      <td>33390536153</td>\n",
       "      <td>127131866@N08</td>\n",
       "      <td>Rhodies - Happy Earth Day</td>\n",
       "    </tr>\n",
       "    <tr>\n",
       "      <th>3</th>\n",
       "      <td>33390536153</td>\n",
       "      <td>139028000@N04</td>\n",
       "      <td>Rhodies - Happy Earth Day</td>\n",
       "    </tr>\n",
       "    <tr>\n",
       "      <th>4</th>\n",
       "      <td>33390536153</td>\n",
       "      <td>121022422@N02</td>\n",
       "      <td>Rhodies - Happy Earth Day</td>\n",
       "    </tr>\n",
       "  </tbody>\n",
       "</table>\n",
       "</div>"
      ],
      "text/plain": [
       "     pictureID         userID                      title\n",
       "0  33390536153  135122603@N04  Rhodies - Happy Earth Day\n",
       "1  33390536153   32953505@N03  Rhodies - Happy Earth Day\n",
       "2  33390536153  127131866@N08  Rhodies - Happy Earth Day\n",
       "3  33390536153  139028000@N04  Rhodies - Happy Earth Day\n",
       "4  33390536153  121022422@N02  Rhodies - Happy Earth Day"
      ]
     },
     "execution_count": 24,
     "metadata": {},
     "output_type": "execute_result"
    }
   ],
   "source": [
    "raw_data.head(5)"
   ]
  },
  {
   "cell_type": "code",
   "execution_count": 25,
   "metadata": {},
   "outputs": [],
   "source": [
    "raw_data = raw_data.reindex(np.random.permutation(raw_data.index))"
   ]
  },
  {
   "cell_type": "code",
   "execution_count": 26,
   "metadata": {},
   "outputs": [
    {
     "data": {
      "text/html": [
       "<div>\n",
       "<style scoped>\n",
       "    .dataframe tbody tr th:only-of-type {\n",
       "        vertical-align: middle;\n",
       "    }\n",
       "\n",
       "    .dataframe tbody tr th {\n",
       "        vertical-align: top;\n",
       "    }\n",
       "\n",
       "    .dataframe thead th {\n",
       "        text-align: right;\n",
       "    }\n",
       "</style>\n",
       "<table border=\"1\" class=\"dataframe\">\n",
       "  <thead>\n",
       "    <tr style=\"text-align: right;\">\n",
       "      <th></th>\n",
       "      <th>pictureID</th>\n",
       "      <th>userID</th>\n",
       "      <th>title</th>\n",
       "    </tr>\n",
       "  </thead>\n",
       "  <tbody>\n",
       "    <tr>\n",
       "      <th>6750749</th>\n",
       "      <td>30876412656</td>\n",
       "      <td>46796205@N05</td>\n",
       "      <td>B E L L A   .   I N   .   W O N D E R L A N D</td>\n",
       "    </tr>\n",
       "    <tr>\n",
       "      <th>10477481</th>\n",
       "      <td>22847152485</td>\n",
       "      <td>62334645@N06</td>\n",
       "      <td>Twilight in Marsaxlokk</td>\n",
       "    </tr>\n",
       "    <tr>\n",
       "      <th>10813957</th>\n",
       "      <td>36342546253</td>\n",
       "      <td>52660724@N05</td>\n",
       "      <td>IMGP0831 Tulips</td>\n",
       "    </tr>\n",
       "    <tr>\n",
       "      <th>11322635</th>\n",
       "      <td>34205191082</td>\n",
       "      <td>135134103@N05</td>\n",
       "      <td>To the Forbidden Land and Back series :-D Fram...</td>\n",
       "    </tr>\n",
       "    <tr>\n",
       "      <th>3211233</th>\n",
       "      <td>18455218701</td>\n",
       "      <td>88312404@N04</td>\n",
       "      <td>Empire in the forest guard</td>\n",
       "    </tr>\n",
       "  </tbody>\n",
       "</table>\n",
       "</div>"
      ],
      "text/plain": [
       "            pictureID         userID  \\\n",
       "6750749   30876412656   46796205@N05   \n",
       "10477481  22847152485   62334645@N06   \n",
       "10813957  36342546253   52660724@N05   \n",
       "11322635  34205191082  135134103@N05   \n",
       "3211233   18455218701   88312404@N04   \n",
       "\n",
       "                                                      title  \n",
       "6750749       B E L L A   .   I N   .   W O N D E R L A N D  \n",
       "10477481                             Twilight in Marsaxlokk  \n",
       "10813957                                    IMGP0831 Tulips  \n",
       "11322635  To the Forbidden Land and Back series :-D Fram...  \n",
       "3211233                          Empire in the forest guard  "
      ]
     },
     "execution_count": 26,
     "metadata": {},
     "output_type": "execute_result"
    }
   ],
   "source": [
    "raw_data.head(5)"
   ]
  },
  {
   "cell_type": "code",
   "execution_count": 27,
   "metadata": {},
   "outputs": [],
   "source": [
    "print raw_data[raw_data.index==663341]"
   ]
  },
  {
   "cell_type": "code",
   "execution_count": 28,
   "metadata": {},
   "outputs": [],
   "source": [
    "def get_count(data, column):\n",
    "    rating_count_group_by_column = data[[column]].groupby(column, as_index=False)\n",
    "    count                        = rating_count_group_by_column.size()\n",
    "    return count"
   ]
  },
  {
   "cell_type": "code",
   "execution_count": 32,
   "metadata": {},
   "outputs": [],
   "source": [
    "def filter_triplets(data, min_items_per_user=12, min_ratings_per_item=10):\n",
    "    # only keep triplets for items rated by at least min_ratings_per_item\n",
    "    if min_ratings_per_item > 0:\n",
    "        item_count = get_count(data, 'pictureID')\n",
    "        data       = data[data['pictureID'].isin(item_count.index[item_count >= min_ratings_per_item])]\n",
    "    # only keep triplets for users who rated at least min_items_per_user\n",
    "    # after filtering, a small proportion of the items may have less than min_ratings_per_item\n",
    "    # TODO: verify this later\n",
    "    if min_items_per_user > 0:\n",
    "        user_count = get_count(data, 'userID')\n",
    "        data       = data[data['userID'].isin(user_count.index[user_count >= min_items_per_user])]       \n",
    "    # update both user_count and item_count after filtering\n",
    "    user_count, item_count = get_count(data, 'userID'), get_count(data, 'pictureID')\n",
    "    return data, user_count, item_count"
   ]
  },
  {
   "cell_type": "code",
   "execution_count": 33,
   "metadata": {},
   "outputs": [],
   "source": [
    "raw_data, user_activity, item_popularity = filter_triplets(raw_data)"
   ]
  },
  {
   "cell_type": "code",
   "execution_count": 34,
   "metadata": {},
   "outputs": [
    {
     "data": {
      "text/html": [
       "<div>\n",
       "<style scoped>\n",
       "    .dataframe tbody tr th:only-of-type {\n",
       "        vertical-align: middle;\n",
       "    }\n",
       "\n",
       "    .dataframe tbody tr th {\n",
       "        vertical-align: top;\n",
       "    }\n",
       "\n",
       "    .dataframe thead th {\n",
       "        text-align: right;\n",
       "    }\n",
       "</style>\n",
       "<table border=\"1\" class=\"dataframe\">\n",
       "  <thead>\n",
       "    <tr style=\"text-align: right;\">\n",
       "      <th></th>\n",
       "      <th>pictureID</th>\n",
       "      <th>userID</th>\n",
       "      <th>title</th>\n",
       "    </tr>\n",
       "  </thead>\n",
       "  <tbody>\n",
       "    <tr>\n",
       "      <th>6750749</th>\n",
       "      <td>30876412656</td>\n",
       "      <td>46796205@N05</td>\n",
       "      <td>B E L L A   .   I N   .   W O N D E R L A N D</td>\n",
       "    </tr>\n",
       "    <tr>\n",
       "      <th>10477481</th>\n",
       "      <td>22847152485</td>\n",
       "      <td>62334645@N06</td>\n",
       "      <td>Twilight in Marsaxlokk</td>\n",
       "    </tr>\n",
       "    <tr>\n",
       "      <th>10813957</th>\n",
       "      <td>36342546253</td>\n",
       "      <td>52660724@N05</td>\n",
       "      <td>IMGP0831 Tulips</td>\n",
       "    </tr>\n",
       "    <tr>\n",
       "      <th>11322635</th>\n",
       "      <td>34205191082</td>\n",
       "      <td>135134103@N05</td>\n",
       "      <td>To the Forbidden Land and Back series :-D Fram...</td>\n",
       "    </tr>\n",
       "    <tr>\n",
       "      <th>3211233</th>\n",
       "      <td>18455218701</td>\n",
       "      <td>88312404@N04</td>\n",
       "      <td>Empire in the forest guard</td>\n",
       "    </tr>\n",
       "  </tbody>\n",
       "</table>\n",
       "</div>"
      ],
      "text/plain": [
       "            pictureID         userID  \\\n",
       "6750749   30876412656   46796205@N05   \n",
       "10477481  22847152485   62334645@N06   \n",
       "10813957  36342546253   52660724@N05   \n",
       "11322635  34205191082  135134103@N05   \n",
       "3211233   18455218701   88312404@N04   \n",
       "\n",
       "                                                      title  \n",
       "6750749       B E L L A   .   I N   .   W O N D E R L A N D  \n",
       "10477481                             Twilight in Marsaxlokk  \n",
       "10813957                                    IMGP0831 Tulips  \n",
       "11322635  To the Forbidden Land and Back series :-D Fram...  \n",
       "3211233                          Empire in the forest guard  "
      ]
     },
     "execution_count": 34,
     "metadata": {},
     "output_type": "execute_result"
    }
   ],
   "source": [
    "raw_data.head()"
   ]
  },
  {
   "cell_type": "code",
   "execution_count": 35,
   "metadata": {},
   "outputs": [
    {
     "data": {
      "text/plain": [
       "(14847780, 3)"
      ]
     },
     "execution_count": 35,
     "metadata": {},
     "output_type": "execute_result"
    }
   ],
   "source": [
    "raw_data.shape"
   ]
  },
  {
   "cell_type": "code",
   "execution_count": 36,
   "metadata": {},
   "outputs": [
    {
     "data": {
      "text/plain": [
       "userID\n",
       "100000691@N05    58\n",
       "100001744@N03    51\n",
       "100001999@N02    88\n",
       "100003468@N05    14\n",
       "100004787@N05    27\n",
       "dtype: int64"
      ]
     },
     "execution_count": 36,
     "metadata": {},
     "output_type": "execute_result"
    }
   ],
   "source": [
    "user_activity.head()"
   ]
  },
  {
   "cell_type": "code",
   "execution_count": 37,
   "metadata": {},
   "outputs": [
    {
     "data": {
      "text/plain": [
       "pictureID\n",
       "183339329      6\n",
       "267187830      3\n",
       "322424465    124\n",
       "368572829     16\n",
       "381312896     17\n",
       "dtype: int64"
      ]
     },
     "execution_count": 37,
     "metadata": {},
     "output_type": "execute_result"
    }
   ],
   "source": [
    "item_popularity.head()"
   ]
  },
  {
   "cell_type": "markdown",
   "metadata": {},
   "source": [
    "For each value of P (1 and 10), we build different training, validation and testing sets"
   ]
  },
  {
   "cell_type": "code",
   "execution_count": 38,
   "metadata": {},
   "outputs": [],
   "source": [
    "df = raw_data.copy()"
   ]
  },
  {
   "cell_type": "code",
   "execution_count": 39,
   "metadata": {},
   "outputs": [],
   "source": [
    "grouped = df.groupby('userID', as_index=False)['pictureID'].agg({'list':(lambda x: list(x))})"
   ]
  },
  {
   "cell_type": "code",
   "execution_count": 40,
   "metadata": {},
   "outputs": [
    {
     "data": {
      "text/html": [
       "<div>\n",
       "<style scoped>\n",
       "    .dataframe tbody tr th:only-of-type {\n",
       "        vertical-align: middle;\n",
       "    }\n",
       "\n",
       "    .dataframe tbody tr th {\n",
       "        vertical-align: top;\n",
       "    }\n",
       "\n",
       "    .dataframe thead th {\n",
       "        text-align: right;\n",
       "    }\n",
       "</style>\n",
       "<table border=\"1\" class=\"dataframe\">\n",
       "  <thead>\n",
       "    <tr style=\"text-align: right;\">\n",
       "      <th></th>\n",
       "      <th>userID</th>\n",
       "      <th>list</th>\n",
       "    </tr>\n",
       "  </thead>\n",
       "  <tbody>\n",
       "    <tr>\n",
       "      <th>0</th>\n",
       "      <td>100000691@N05</td>\n",
       "      <td>[22822278113, 24390336752, 22796074100, 242843...</td>\n",
       "    </tr>\n",
       "    <tr>\n",
       "      <th>1</th>\n",
       "      <td>100001744@N03</td>\n",
       "      <td>[16580123553, 16747157523, 19345981623, 166587...</td>\n",
       "    </tr>\n",
       "    <tr>\n",
       "      <th>2</th>\n",
       "      <td>100001999@N02</td>\n",
       "      <td>[33683882005, 34408178123, 26500495834, 334710...</td>\n",
       "    </tr>\n",
       "    <tr>\n",
       "      <th>3</th>\n",
       "      <td>100003468@N05</td>\n",
       "      <td>[22822278113, 16421073549, 32677062170, 329323...</td>\n",
       "    </tr>\n",
       "    <tr>\n",
       "      <th>4</th>\n",
       "      <td>100004787@N05</td>\n",
       "      <td>[22736920693, 16658754708, 13145838443, 160236...</td>\n",
       "    </tr>\n",
       "  </tbody>\n",
       "</table>\n",
       "</div>"
      ],
      "text/plain": [
       "          userID                                               list\n",
       "0  100000691@N05  [22822278113, 24390336752, 22796074100, 242843...\n",
       "1  100001744@N03  [16580123553, 16747157523, 19345981623, 166587...\n",
       "2  100001999@N02  [33683882005, 34408178123, 26500495834, 334710...\n",
       "3  100003468@N05  [22822278113, 16421073549, 32677062170, 329323...\n",
       "4  100004787@N05  [22736920693, 16658754708, 13145838443, 160236..."
      ]
     },
     "execution_count": 40,
     "metadata": {},
     "output_type": "execute_result"
    }
   ],
   "source": [
    "grouped.head(5)"
   ]
  },
  {
   "cell_type": "markdown",
   "metadata": {},
   "source": [
    "## Let's plot the distribution of rated items"
   ]
  },
  {
   "cell_type": "code",
   "execution_count": 41,
   "metadata": {},
   "outputs": [],
   "source": [
    "grouped['rating_frequency'] = [len(grouped[grouped.index==i]['list'].values[0]) for i in range(grouped.shape[0])]"
   ]
  },
  {
   "cell_type": "code",
   "execution_count": 44,
   "metadata": {},
   "outputs": [
    {
     "data": {
      "text/plain": [
       "(array([8.0079e+04, 5.0760e+03, 2.0540e+03, 1.1340e+03, 7.2500e+02,\n",
       "        5.3200e+02, 3.4600e+02, 2.6100e+02, 2.1200e+02, 1.7600e+02,\n",
       "        1.4600e+02, 1.0900e+02, 7.7000e+01, 6.6000e+01, 5.6000e+01,\n",
       "        5.7000e+01, 4.7000e+01, 4.1000e+01, 3.3000e+01, 3.4000e+01,\n",
       "        3.2000e+01, 3.2000e+01, 2.3000e+01, 2.5000e+01, 2.0000e+01,\n",
       "        9.0000e+00, 1.7000e+01, 1.1000e+01, 1.4000e+01, 6.0000e+00,\n",
       "        7.0000e+00, 9.0000e+00, 3.0000e+00, 2.0000e+00, 6.0000e+00,\n",
       "        7.0000e+00, 4.0000e+00, 5.0000e+00, 3.0000e+00, 2.0000e+00,\n",
       "        1.0000e+00, 4.0000e+00, 3.0000e+00, 2.0000e+00, 3.0000e+00,\n",
       "        2.0000e+00, 1.0000e+00, 1.0000e+00, 3.0000e+00, 1.0000e+00,\n",
       "        0.0000e+00, 1.0000e+00, 0.0000e+00, 1.0000e+00, 0.0000e+00,\n",
       "        0.0000e+00, 0.0000e+00, 0.0000e+00, 0.0000e+00, 0.0000e+00,\n",
       "        0.0000e+00, 0.0000e+00, 0.0000e+00, 0.0000e+00, 2.0000e+00,\n",
       "        0.0000e+00, 1.0000e+00, 1.0000e+00, 0.0000e+00, 1.0000e+00,\n",
       "        0.0000e+00, 0.0000e+00, 0.0000e+00, 1.0000e+00, 0.0000e+00,\n",
       "        0.0000e+00, 0.0000e+00, 0.0000e+00, 0.0000e+00, 0.0000e+00,\n",
       "        0.0000e+00, 1.0000e+00, 0.0000e+00, 0.0000e+00, 0.0000e+00,\n",
       "        0.0000e+00, 0.0000e+00, 0.0000e+00, 1.0000e+00, 0.0000e+00,\n",
       "        0.0000e+00, 0.0000e+00, 0.0000e+00, 0.0000e+00, 0.0000e+00,\n",
       "        0.0000e+00, 0.0000e+00, 0.0000e+00, 0.0000e+00, 1.0000e+00]),\n",
       " array([1.200000e+01, 2.402100e+02, 4.684200e+02, 6.966300e+02,\n",
       "        9.248400e+02, 1.153050e+03, 1.381260e+03, 1.609470e+03,\n",
       "        1.837680e+03, 2.065890e+03, 2.294100e+03, 2.522310e+03,\n",
       "        2.750520e+03, 2.978730e+03, 3.206940e+03, 3.435150e+03,\n",
       "        3.663360e+03, 3.891570e+03, 4.119780e+03, 4.347990e+03,\n",
       "        4.576200e+03, 4.804410e+03, 5.032620e+03, 5.260830e+03,\n",
       "        5.489040e+03, 5.717250e+03, 5.945460e+03, 6.173670e+03,\n",
       "        6.401880e+03, 6.630090e+03, 6.858300e+03, 7.086510e+03,\n",
       "        7.314720e+03, 7.542930e+03, 7.771140e+03, 7.999350e+03,\n",
       "        8.227560e+03, 8.455770e+03, 8.683980e+03, 8.912190e+03,\n",
       "        9.140400e+03, 9.368610e+03, 9.596820e+03, 9.825030e+03,\n",
       "        1.005324e+04, 1.028145e+04, 1.050966e+04, 1.073787e+04,\n",
       "        1.096608e+04, 1.119429e+04, 1.142250e+04, 1.165071e+04,\n",
       "        1.187892e+04, 1.210713e+04, 1.233534e+04, 1.256355e+04,\n",
       "        1.279176e+04, 1.301997e+04, 1.324818e+04, 1.347639e+04,\n",
       "        1.370460e+04, 1.393281e+04, 1.416102e+04, 1.438923e+04,\n",
       "        1.461744e+04, 1.484565e+04, 1.507386e+04, 1.530207e+04,\n",
       "        1.553028e+04, 1.575849e+04, 1.598670e+04, 1.621491e+04,\n",
       "        1.644312e+04, 1.667133e+04, 1.689954e+04, 1.712775e+04,\n",
       "        1.735596e+04, 1.758417e+04, 1.781238e+04, 1.804059e+04,\n",
       "        1.826880e+04, 1.849701e+04, 1.872522e+04, 1.895343e+04,\n",
       "        1.918164e+04, 1.940985e+04, 1.963806e+04, 1.986627e+04,\n",
       "        2.009448e+04, 2.032269e+04, 2.055090e+04, 2.077911e+04,\n",
       "        2.100732e+04, 2.123553e+04, 2.146374e+04, 2.169195e+04,\n",
       "        2.192016e+04, 2.214837e+04, 2.237658e+04, 2.260479e+04,\n",
       "        2.283300e+04]),\n",
       " <a list of 100 Patch objects>)"
      ]
     },
     "execution_count": 44,
     "metadata": {},
     "output_type": "execute_result"
    },
    {
     "data": {
      "image/png": "[encoded data removed]",
      "text/plain": [
       "<Figure size 432x288 with 1 Axes>"
      ]
     },
     "metadata": {
      "image/png": {
       "height": 248,
       "width": 393
      }
     },
     "output_type": "display_data"
    }
   ],
   "source": [
    "plt.hist(grouped['rating_frequency'],bins=100)\n",
    "plt.show()"
   ]
  },
  {
   "cell_type": "code",
   "execution_count": 46,
   "metadata": {},
   "outputs": [
    {
     "data": {
      "text/plain": [
       "count    91530.000000\n",
       "mean       162.217634\n",
       "std        526.627938\n",
       "min         12.000000\n",
       "25%         19.000000\n",
       "50%         36.000000\n",
       "75%         97.000000\n",
       "max      22833.000000\n",
       "Name: rating_frequency, dtype: float64"
      ]
     },
     "execution_count": 46,
     "metadata": {},
     "output_type": "execute_result"
    }
   ],
   "source": [
    "grouped['rating_frequency'].describe()"
   ]
  },
  {
   "cell_type": "code",
   "execution_count": 48,
   "metadata": {},
   "outputs": [],
   "source": [
    "num_users_min_ratings = len(grouped[grouped['rating_frequency']==10])\n"
   ]
  },
  {
   "cell_type": "code",
   "execution_count": 49,
   "metadata": {},
   "outputs": [],
   "source": [
    "print 'Num users with 10 ratings: %s (%.3f%%)' % (num_users_min_ratings, 100*(float(num_users_min_ratings)/grouped.shape[0]))"
   ]
  },
  {
   "cell_type": "code",
   "execution_count": 50,
   "metadata": {},
   "outputs": [],
   "source": [
    "grouped=grouped.drop('rating_frequency', axis=1)"
   ]
  },
  {
   "cell_type": "markdown",
   "metadata": {},
   "source": [
    "## Let's build train/valid/test files"
   ]
  },
  {
   "cell_type": "code",
   "execution_count": null,
   "metadata": {},
   "outputs": [],
   "source": []
  },
  {
   "cell_type": "code",
   "execution_count": 51,
   "metadata": {},
   "outputs": [],
   "source": [
    "def split_train_val_test(x, train_size, seed):\n",
    "    np.random.seed(seed)\n",
    "    train       = np.random.choice(x, [1,train_size], replace=False)[0]\n",
    "    holdout     = np.array(list(set(x).difference(set(train))))\n",
    "    num_ratings = len(holdout)\n",
    "    if num_ratings > 0:\n",
    "        validation = np.random.choice(num_ratings, size=int(np.ceil(0.10*num_ratings)),replace=False)\n",
    "        validation_idx = np.zeros(num_ratings, dtype=bool)\n",
    "        validation_idx[validation] = True\n",
    "        validation = holdout[validation_idx]\n",
    "        test = holdout[~validation_idx]\n",
    "    else:\n",
    "        validation = np.array([])\n",
    "        test = np.array([])\n",
    "    return[train, validation, test]"
   ]
  },
  {
   "cell_type": "code",
   "execution_count": 52,
   "metadata": {},
   "outputs": [],
   "source": [
    "def get_data(line, pos):\n",
    "    return line[pos]"
   ]
  },
  {
   "cell_type": "code",
   "execution_count": 54,
   "metadata": {},
   "outputs": [],
   "source": [
    "def get_split_data_frame(raw_data, grouped_data, label):\n",
    "    d    = {'train':0, 'val':1, 'test':2}\n",
    "    fold = grouped_data['splits'].apply(get_data, pos=d[label])\n",
    "    \n",
    "    items = fold.values\n",
    "    users = grouped_data['userID'].values\n",
    "    \n",
    "    tmp_list  = map(lambda pair: zip([pair[0]]*len(pair[1]),pair[1]), zip(users, items))\n",
    "    flat_list = [item for sublist in tmp_list for item in sublist]\n",
    "    tmp_df    = pd.DataFrame(flat_list,columns=['userID','pictureID'])\n",
    "    return pd.merge(raw_data, tmp_df)"
   ]
  },
  {
   "cell_type": "code",
   "execution_count": 55,
   "metadata": {},
   "outputs": [],
   "source": [
    "grouped['splits'] = grouped['list'].apply(split_train_val_test, train_size=P, seed=seed_P_E)"
   ]
  },
  {
   "cell_type": "code",
   "execution_count": 56,
   "metadata": {},
   "outputs": [
    {
     "data": {
      "text/html": [
       "<div>\n",
       "<style scoped>\n",
       "    .dataframe tbody tr th:only-of-type {\n",
       "        vertical-align: middle;\n",
       "    }\n",
       "\n",
       "    .dataframe tbody tr th {\n",
       "        vertical-align: top;\n",
       "    }\n",
       "\n",
       "    .dataframe thead th {\n",
       "        text-align: right;\n",
       "    }\n",
       "</style>\n",
       "<table border=\"1\" class=\"dataframe\">\n",
       "  <thead>\n",
       "    <tr style=\"text-align: right;\">\n",
       "      <th></th>\n",
       "      <th>userID</th>\n",
       "      <th>list</th>\n",
       "      <th>splits</th>\n",
       "    </tr>\n",
       "  </thead>\n",
       "  <tbody>\n",
       "    <tr>\n",
       "      <th>0</th>\n",
       "      <td>100000691@N05</td>\n",
       "      <td>[22822278113, 24390336752, 22796074100, 242843...</td>\n",
       "      <td>[[24497962403], [24558368895, 24201688756, 236...</td>\n",
       "    </tr>\n",
       "    <tr>\n",
       "      <th>1</th>\n",
       "      <td>100001744@N03</td>\n",
       "      <td>[16580123553, 16747157523, 19345981623, 166587...</td>\n",
       "      <td>[[17902740813], [16580123553, 21412232748, 863...</td>\n",
       "    </tr>\n",
       "    <tr>\n",
       "      <th>2</th>\n",
       "      <td>100001999@N02</td>\n",
       "      <td>[33683882005, 34408178123, 26500495834, 334710...</td>\n",
       "      <td>[[31781575792], [23314346530, 24006309449, 164...</td>\n",
       "    </tr>\n",
       "    <tr>\n",
       "      <th>3</th>\n",
       "      <td>100003468@N05</td>\n",
       "      <td>[22822278113, 16421073549, 32677062170, 329323...</td>\n",
       "      <td>[[32932308795], [32521986471, 22859497837], [2...</td>\n",
       "    </tr>\n",
       "    <tr>\n",
       "      <th>4</th>\n",
       "      <td>100004787@N05</td>\n",
       "      <td>[22736920693, 16658754708, 13145838443, 160236...</td>\n",
       "      <td>[[16635615395], [11611317846, 22736920693, 167...</td>\n",
       "    </tr>\n",
       "  </tbody>\n",
       "</table>\n",
       "</div>"
      ],
      "text/plain": [
       "          userID                                               list  \\\n",
       "0  100000691@N05  [22822278113, 24390336752, 22796074100, 242843...   \n",
       "1  100001744@N03  [16580123553, 16747157523, 19345981623, 166587...   \n",
       "2  100001999@N02  [33683882005, 34408178123, 26500495834, 334710...   \n",
       "3  100003468@N05  [22822278113, 16421073549, 32677062170, 329323...   \n",
       "4  100004787@N05  [22736920693, 16658754708, 13145838443, 160236...   \n",
       "\n",
       "                                              splits  \n",
       "0  [[24497962403], [24558368895, 24201688756, 236...  \n",
       "1  [[17902740813], [16580123553, 21412232748, 863...  \n",
       "2  [[31781575792], [23314346530, 24006309449, 164...  \n",
       "3  [[32932308795], [32521986471, 22859497837], [2...  \n",
       "4  [[16635615395], [11611317846, 22736920693, 167...  "
      ]
     },
     "execution_count": 56,
     "metadata": {},
     "output_type": "execute_result"
    }
   ],
   "source": [
    "grouped.head()"
   ]
  },
  {
   "cell_type": "code",
   "execution_count": 57,
   "metadata": {},
   "outputs": [],
   "source": [
    "train_raw_data = get_split_data_frame(raw_data, grouped, 'train')\n",
    "val_raw_data   = get_split_data_frame(raw_data, grouped, 'val')\n",
    "test_raw_data  = get_split_data_frame(raw_data, grouped, 'test')"
   ]
  },
  {
   "cell_type": "code",
   "execution_count": 58,
   "metadata": {},
   "outputs": [
    {
     "data": {
      "text/html": [
       "<div>\n",
       "<style scoped>\n",
       "    .dataframe tbody tr th:only-of-type {\n",
       "        vertical-align: middle;\n",
       "    }\n",
       "\n",
       "    .dataframe tbody tr th {\n",
       "        vertical-align: top;\n",
       "    }\n",
       "\n",
       "    .dataframe thead th {\n",
       "        text-align: right;\n",
       "    }\n",
       "</style>\n",
       "<table border=\"1\" class=\"dataframe\">\n",
       "  <thead>\n",
       "    <tr style=\"text-align: right;\">\n",
       "      <th></th>\n",
       "      <th>pictureID</th>\n",
       "      <th>userID</th>\n",
       "      <th>title</th>\n",
       "    </tr>\n",
       "  </thead>\n",
       "  <tbody>\n",
       "    <tr>\n",
       "      <th>0</th>\n",
       "      <td>39249905754</td>\n",
       "      <td>147849717@N08</td>\n",
       "      <td>Futter</td>\n",
       "    </tr>\n",
       "    <tr>\n",
       "      <th>1</th>\n",
       "      <td>32962086760</td>\n",
       "      <td>148869261@N02</td>\n",
       "      <td>Tulipe</td>\n",
       "    </tr>\n",
       "    <tr>\n",
       "      <th>2</th>\n",
       "      <td>30021100390</td>\n",
       "      <td>49214499@N06</td>\n",
       "      <td>Neptunbrunnen - Neptune Fountain</td>\n",
       "    </tr>\n",
       "    <tr>\n",
       "      <th>3</th>\n",
       "      <td>40286498242</td>\n",
       "      <td>136099442@N03</td>\n",
       "      <td>Gardasee - Lago die Garda</td>\n",
       "    </tr>\n",
       "    <tr>\n",
       "      <th>4</th>\n",
       "      <td>32538156880</td>\n",
       "      <td>137182042@N02</td>\n",
       "      <td>Stately Home</td>\n",
       "    </tr>\n",
       "  </tbody>\n",
       "</table>\n",
       "</div>"
      ],
      "text/plain": [
       "     pictureID         userID                             title\n",
       "0  39249905754  147849717@N08                            Futter\n",
       "1  32962086760  148869261@N02                            Tulipe\n",
       "2  30021100390   49214499@N06  Neptunbrunnen - Neptune Fountain\n",
       "3  40286498242  136099442@N03         Gardasee - Lago die Garda\n",
       "4  32538156880  137182042@N02                      Stately Home"
      ]
     },
     "execution_count": 58,
     "metadata": {},
     "output_type": "execute_result"
    }
   ],
   "source": [
    "train_raw_data.head()"
   ]
  },
  {
   "cell_type": "code",
   "execution_count": 59,
   "metadata": {},
   "outputs": [],
   "source": [
    "print train_raw_data.shape, val_raw_data.shape, test_raw_data.shape, raw_data.shape\n",
    "print (train_raw_data.shape[0]+val_raw_data.shape[0]+test_raw_data.shape[0] == raw_data.shape[0]) # the whole\n",
    "# is the sum of partitions"
   ]
  },
  {
   "cell_type": "code",
   "execution_count": 49,
   "metadata": {},
   "outputs": [],
   "source": [
    "## Sanity toy test of above code\n",
    "\n",
    "#tmp=grouped.head(5)\n",
    "#tmp=tmp.drop('splits',axis=1)\n",
    "#def get_five(x):\n",
    "#    return x[:5]\n",
    "#tmp['list'] = tmp['list'].apply(get_five)\n",
    "#tmp['splits'] = tmp['list'].apply(split_train_val_test, train_size=P)\n",
    "#get_split_data_frame(raw_data, tmp, 'train')\n",
    "#get_split_data_frame(raw_data, tmp, 'val')\n",
    "#get_split_data_frame(raw_data, tmp, 'test')"
   ]
  },
  {
   "cell_type": "code",
   "execution_count": 60,
   "metadata": {},
   "outputs": [],
   "source": [
    "#TODO: check https://stackoverflow.com/questions/16489655/plotting-log-binned-network-degree-distributions\n",
    "\n",
    "def get_plot_distribution(c, xlabel):\n",
    "\n",
    "    dict_items=dict(c)\n",
    "    bla = dict(Counter(dict_items.values()))\n",
    "\n",
    "    plt.xscale('log')\n",
    "    plt.yscale('log')\n",
    "\n",
    "    plt.scatter(bla.keys(),bla.values(),c='b',marker='x')\n",
    "\n",
    "    #plt.xlim((1e-4,1e-1))\n",
    "    #plt.ylim((.8,1.1e2))\n",
    "    plt.xlabel(xlabel)\n",
    "    plt.ylabel('Frequency')\n",
    "    plt.show()"
   ]
  },
  {
   "cell_type": "code",
   "execution_count": 61,
   "metadata": {},
   "outputs": [
    {
     "data": {
      "image/png": "[encoded data removed]",
      "text/plain": [
       "<Figure size 432x288 with 1 Axes>"
      ]
     },
     "metadata": {
      "image/png": {
       "height": 267,
       "width": 392
      }
     },
     "output_type": "display_data"
    },
    {
     "data": {
      "image/png": "[encoded data removed]",
      "text/plain": [
       "<Figure size 432x288 with 1 Axes>"
      ]
     },
     "metadata": {
      "image/png": {
       "height": 267,
       "width": 392
      }
     },
     "output_type": "display_data"
    }
   ],
   "source": [
    "get_plot_distribution(item_popularity, 'Items with x ratings')\n",
    "get_plot_distribution(user_activity, 'Users with x ratings')"
   ]
  },
  {
   "cell_type": "markdown",
   "metadata": {},
   "source": [
    "#### Filtering users from validation set"
   ]
  },
  {
   "cell_type": "code",
   "execution_count": 63,
   "metadata": {},
   "outputs": [],
   "source": [
    "print('There are unique users: %d training set, %d validation set and %d testing set' %\n",
    "     (len(pd.unique(train_raw_data['userID'])), len(pd.unique(val_raw_data['userID'])), len(pd.unique(test_raw_data['userID']))))"
   ]
  },
  {
   "cell_type": "markdown",
   "metadata": {},
   "source": [
    "#### Filtering items from validation set"
   ]
  },
  {
   "cell_type": "code",
   "execution_count": 65,
   "metadata": {},
   "outputs": [],
   "source": [
    "print('There are unique items: %d training set, %d validation set and %d testing set' %\n",
    "     (len(pd.unique(train_raw_data['pictureID'])), len(pd.unique(val_raw_data['pictureID'])), len(pd.unique(test_raw_data['pictureID']))))"
   ]
  },
  {
   "cell_type": "markdown",
   "metadata": {},
   "source": [
    "### Here, we guarantee that there is no item that appears only in valiation and testing"
   ]
  },
  {
   "cell_type": "code",
   "execution_count": 66,
   "metadata": {},
   "outputs": [],
   "source": [
    "train_items = train_raw_data['pictureID'].values"
   ]
  },
  {
   "cell_type": "code",
   "execution_count": 67,
   "metadata": {},
   "outputs": [],
   "source": [
    "val_raw_data = val_raw_data[val_raw_data['pictureID'].isin(train_items)]"
   ]
  },
  {
   "cell_type": "code",
   "execution_count": 68,
   "metadata": {},
   "outputs": [],
   "source": [
    "test_raw_data = test_raw_data[test_raw_data['pictureID'].isin(train_items)]"
   ]
  },
  {
   "cell_type": "code",
   "execution_count": 70,
   "metadata": {},
   "outputs": [],
   "source": [
    "print('There are unique items: %d training set, %d validation set and %d testing set' %\n",
    "     (len(pd.unique(train_raw_data['pictureID'])), len(pd.unique(val_raw_data['pictureID'])), len(pd.unique(test_raw_data['pictureID']))))"
   ]
  },
  {
   "cell_type": "code",
   "execution_count": 71,
   "metadata": {},
   "outputs": [],
   "source": [
    "raw_processed_data = pd.concat([train_raw_data, val_raw_data, test_raw_data])"
   ]
  },
  {
   "cell_type": "code",
   "execution_count": 72,
   "metadata": {},
   "outputs": [
    {
     "data": {
      "text/plain": [
       "(10749427, 3)"
      ]
     },
     "execution_count": 72,
     "metadata": {},
     "output_type": "execute_result"
    }
   ],
   "source": [
    "raw_processed_data.shape"
   ]
  },
  {
   "cell_type": "code",
   "execution_count": 75,
   "metadata": {},
   "outputs": [],
   "source": [
    "print train_raw_data.shape, val_raw_data.shape, test_raw_data.shape, raw_processed_data.shape\n",
    "print (train_raw_data.shape[0]+val_raw_data.shape[0]+test_raw_data.shape[0] == raw_processed_data.shape[0]) # the whole\n",
    "# is the sum of partitions"
   ]
  },
  {
   "cell_type": "code",
   "execution_count": 76,
   "metadata": {},
   "outputs": [],
   "source": [
    "print 'Num users in:\\noverall: %d\\ntrain: %d\\nval: %d\\ntest:%d\\n' % (len(pd.unique(raw_processed_data['userID'])),\n",
    "                                                               len(pd.unique(train_raw_data['userID'])),\n",
    "                                                               len(pd.unique(val_raw_data['userID'])),\n",
    "                                                               len(pd.unique(test_raw_data['userID'])))"
   ]
  },
  {
   "cell_type": "code",
   "execution_count": 77,
   "metadata": {},
   "outputs": [],
   "source": [
    "print 'Num items in:\\noverall: %d\\ntrain: %d\\nval: %d\\ntest:%d\\n' % (len(pd.unique(raw_processed_data['pictureID'])),\n",
    "                                                               len(pd.unique(train_raw_data['pictureID'])),\n",
    "                                                               len(pd.unique(val_raw_data['pictureID'])),\n",
    "                                                               len(pd.unique(test_raw_data['pictureID'])))"
   ]
  },
  {
   "cell_type": "code",
   "execution_count": 78,
   "metadata": {},
   "outputs": [],
   "source": [
    "print 'Num ratings in:\\noverall: %d\\ntrain: %d\\nval: %d\\ntest:%d\\n' % (raw_processed_data.shape[0],\n",
    "                                                                      train_raw_data.shape[0],\n",
    "                                                                      val_raw_data.shape[0],\n",
    "                                                                      test_raw_data.shape[0])"
   ]
  },
  {
   "cell_type": "markdown",
   "metadata": {},
   "source": [
    "### Storing user and item ids"
   ]
  },
  {
   "cell_type": "code",
   "execution_count": 79,
   "metadata": {},
   "outputs": [],
   "source": [
    "raw_processed_data, user_activity, item_popularity = filter_triplets(raw_processed_data, min_items_per_user=0, min_ratings_per_item=0)"
   ]
  },
  {
   "cell_type": "code",
   "execution_count": 65,
   "metadata": {},
   "outputs": [],
   "source": [
    "print train_raw_data.shape, val_raw_data.shape, test_raw_data.shape, raw_processed_data.shape\n",
    "print (train_raw_data.shape[0]+val_raw_data.shape[0]+test_raw_data.shape[0] == raw_processed_data.shape[0]) # the whole\n",
    "# is the sum of partitions"
   ]
  },
  {
   "cell_type": "code",
   "execution_count": 81,
   "metadata": {},
   "outputs": [],
   "source": [
    "print output_dir"
   ]
  },
  {
   "cell_type": "code",
   "execution_count": 82,
   "metadata": {},
   "outputs": [
    {
     "data": {
      "text/plain": [
       "0"
      ]
     },
     "execution_count": 82,
     "metadata": {},
     "output_type": "execute_result"
    }
   ],
   "source": [
    "unique_user_id = user_activity.index\n",
    "unique_item_id = item_popularity.index\n",
    "\n",
    "user2id = dict((user_id, i) for (i, user_id) in enumerate(unique_user_id))\n",
    "item2id = dict((item_id, i) for (i, item_id) in enumerate(unique_item_id))\n",
    "\n",
    "os.system('mkdir -p %s' % (os.path.join(DATA_DIR, output_dir)))\n",
    "with open(os.path.join(DATA_DIR, output_dir, 'unique_user_id.dat'), 'w') as f:\n",
    "    for user_id in unique_user_id:\n",
    "        f.write('%s\\n' % user_id)\n",
    "\n",
    "with open(os.path.join(DATA_DIR, output_dir, 'unique_item_id.dat'), 'w') as f:\n",
    "    for item_id in unique_item_id:\n",
    "        f.write('%s\\n' % item_id)"
   ]
  },
  {
   "cell_type": "markdown",
   "metadata": {},
   "source": [
    "### Dump processed data as user_id,item_id,timestamp format"
   ]
  },
  {
   "cell_type": "code",
   "execution_count": 86,
   "metadata": {},
   "outputs": [],
   "source": [
    "def dump(data):\n",
    "    user_id = map(lambda x: user2id[x], data['userID'])\n",
    "    item_id = map(lambda x: item2id[x], data['pictureID'])\n",
    "    data['userID'] = user_id\n",
    "    data['pictureID'] = item_id\n",
    "    return data[['userID', 'pictureID', 'title']]"
   ]
  },
  {
   "cell_type": "code",
   "execution_count": 87,
   "metadata": {},
   "outputs": [],
   "source": [
    "train_data = dump(train_raw_data.copy())\n",
    "train_data.to_csv(os.path.join(DATA_DIR, output_dir, 'train.dat'), index=False)\n",
    "\n",
    "validation_data = dump(val_raw_data.copy())\n",
    "validation_data.to_csv(os.path.join(DATA_DIR, output_dir, 'validation.dat'), index=False)\n",
    "\n",
    "test_data = dump(test_raw_data.copy())\n",
    "test_data.to_csv(os.path.join(DATA_DIR, output_dir, 'test.dat'), index=False)"
   ]
  },
  {
   "cell_type": "markdown",
   "metadata": {},
   "source": [
    "## Representation of textual content (tfidf and tf: from title+plot)\n",
    "\n",
    "### We consider the following criteria:\n",
    "\n",
    "- concatenate title and plot\n",
    "- remove stopwords\n",
    "- use tf-idf to choose top 8k words as vocabulary"
   ]
  },
  {
   "cell_type": "code",
   "execution_count": 88,
   "metadata": {},
   "outputs": [
    {
     "data": {
      "text/plain": [
       "(72349, 3)"
      ]
     },
     "execution_count": 88,
     "metadata": {},
     "output_type": "execute_result"
    }
   ],
   "source": [
    "content_data.shape"
   ]
  },
  {
   "cell_type": "code",
   "execution_count": 92,
   "metadata": {},
   "outputs": [],
   "source": [
    "content_data = content_data[content_data['id'].isin(pd.unique(train_raw_data['pictureID']))]"
   ]
  },
  {
   "cell_type": "code",
   "execution_count": 93,
   "metadata": {},
   "outputs": [
    {
     "data": {
      "text/plain": [
       "(25767, 3)"
      ]
     },
     "execution_count": 93,
     "metadata": {},
     "output_type": "execute_result"
    }
   ],
   "source": [
    "content_data.shape"
   ]
  },
  {
   "cell_type": "code",
   "execution_count": 94,
   "metadata": {},
   "outputs": [
    {
     "data": {
      "text/html": [
       "<div>\n",
       "<style scoped>\n",
       "    .dataframe tbody tr th:only-of-type {\n",
       "        vertical-align: middle;\n",
       "    }\n",
       "\n",
       "    .dataframe tbody tr th {\n",
       "        vertical-align: top;\n",
       "    }\n",
       "\n",
       "    .dataframe thead th {\n",
       "        text-align: right;\n",
       "    }\n",
       "</style>\n",
       "<table border=\"1\" class=\"dataframe\">\n",
       "  <thead>\n",
       "    <tr style=\"text-align: right;\">\n",
       "      <th></th>\n",
       "      <th>description</th>\n",
       "      <th>title</th>\n",
       "      <th>id</th>\n",
       "    </tr>\n",
       "  </thead>\n",
       "  <tbody>\n",
       "    <tr>\n",
       "      <th>0</th>\n",
       "      <td>Smile On Saturday @ Seasons Beauty\\nHappy Eart...</td>\n",
       "      <td>Rhodies - Happy Earth Day</td>\n",
       "      <td>33390536153</td>\n",
       "    </tr>\n",
       "    <tr>\n",
       "      <th>2</th>\n",
       "      <td>No Extra-Terrestrials here, just  some broken ...</td>\n",
       "      <td>Alien Ship Crash Landing</td>\n",
       "      <td>33153645404</td>\n",
       "    </tr>\n",
       "    <tr>\n",
       "      <th>12</th>\n",
       "      <td>A &amp;quot;scrabbled&amp;quot; egg in the morning wit...</td>\n",
       "      <td>Scrabbled Egg</td>\n",
       "      <td>32473555623</td>\n",
       "    </tr>\n",
       "    <tr>\n",
       "      <th>14</th>\n",
       "      <td>I found a bag of these very small clothespins ...</td>\n",
       "      <td>7DWF- Teeny Tiny Clothespins</td>\n",
       "      <td>32691370250</td>\n",
       "    </tr>\n",
       "    <tr>\n",
       "      <th>20</th>\n",
       "      <td>Another image from this past weekend exploring...</td>\n",
       "      <td>Cosmic Post Office</td>\n",
       "      <td>10068538465</td>\n",
       "    </tr>\n",
       "  </tbody>\n",
       "</table>\n",
       "</div>"
      ],
      "text/plain": [
       "                                          description  \\\n",
       "0   Smile On Saturday @ Seasons Beauty\\nHappy Eart...   \n",
       "2   No Extra-Terrestrials here, just  some broken ...   \n",
       "12  A &quot;scrabbled&quot; egg in the morning wit...   \n",
       "14  I found a bag of these very small clothespins ...   \n",
       "20  Another image from this past weekend exploring...   \n",
       "\n",
       "                           title           id  \n",
       "0      Rhodies - Happy Earth Day  33390536153  \n",
       "2       Alien Ship Crash Landing  33153645404  \n",
       "12                 Scrabbled Egg  32473555623  \n",
       "14  7DWF- Teeny Tiny Clothespins  32691370250  \n",
       "20            Cosmic Post Office  10068538465  "
      ]
     },
     "execution_count": 94,
     "metadata": {},
     "output_type": "execute_result"
    }
   ],
   "source": [
    "content_data.head()"
   ]
  },
  {
   "cell_type": "markdown",
   "metadata": {},
   "source": [
    "### reference for below functions: https://buhrmann.github.io/tfidf-analysis.html"
   ]
  },
  {
   "cell_type": "code",
   "execution_count": 95,
   "metadata": {},
   "outputs": [],
   "source": [
    "def top_tfidf_feats(tfv, row, features, top_n=25):\n",
    "    ''' Get top n tfidf values in row and return them with their corresponding feature names.'''\n",
    "    topn_ids   = np.argsort(row)[::-1][:top_n]\n",
    "    top_feats  = [(features[i], row[i], tfv.idf_[i]) for i in topn_ids]\n",
    "    df         = pd.DataFrame(top_feats)\n",
    "    df.columns = ['word', 'tfidf', 'idf']\n",
    "    return df[df['tfidf']>0]"
   ]
  },
  {
   "cell_type": "code",
   "execution_count": 96,
   "metadata": {},
   "outputs": [],
   "source": [
    "def top_feats_in_doc(tfv, Xtr, features, row_id, top_n=25):\n",
    "    ''' Top tfidf features in specific document (matrix row) '''\n",
    "    row = np.squeeze(Xtr[row_id].toarray())\n",
    "    return top_tfidf_feats(tfv, row, features, top_n)"
   ]
  },
  {
   "cell_type": "code",
   "execution_count": 97,
   "metadata": {},
   "outputs": [],
   "source": [
    "# Getting top VOCABULARY_SIZE words from plot according to tfidf\n",
    "output_vocabulary_file = os.path.join(DATA_DIR, '%s/vocabulary_%s.csv' % (output_dir, DATASET_ID))\n",
    "force = False # force vocabulary construction, this may take a while\n",
    "\n",
    "vocab = list()\n",
    "if force or not os.path.exists(output_vocabulary_file):\n",
    "\n",
    "    VOCABULARY_SIZE = 8000\n",
    "\n",
    "    tfv = TfidfVectorizer(strip_accents='unicode',\n",
    "                          analyzer=\"word\", token_pattern=r'\\w{1,}',stop_words='english',\n",
    "                          decode_error='replace', encoding='utf-8')\n",
    "    \n",
    "    description   = content_data['title'].astype(str).str.cat(content_data['description'].astype(str), sep=' ')\n",
    "    tfidf_matrix  = tfv.fit_transform(description.values.astype('U'))\n",
    "    feature_names = tfv.get_feature_names()\n",
    "    \n",
    "    result = pd.DataFrame()\n",
    "    for i in range(len(description)):\n",
    "        tmp = top_feats_in_doc(tfv, tfidf_matrix, feature_names,i)\n",
    "        result = pd.concat([tmp, result])\n",
    "        \n",
    "    result = result.groupby('word', sort=False, as_index=True).max().reset_index().sort_values(['tfidf'], ascending=False)[:VOCABULARY_SIZE]\n",
    "\n",
    "    result.to_csv(output_vocabulary_file, index=False)\n",
    "    vocab = list(result['word'].values.astype(str))\n",
    "    \n",
    "else: # read vocabulary file\n",
    "    print 'reading %s' % (output_vocabulary_file)\n",
    "    with open(output_vocabulary_file, 'r') as infile:\n",
    "        reader = csv.reader(infile)\n",
    "        reader.next() # ignoring header\n",
    "        for rows in reader:\n",
    "            vocab.append(rows[0])\n",
    "        \n",
    "print 'Vocabulary size %s' % (len(vocab))"
   ]
  },
  {
   "cell_type": "code",
   "execution_count": 98,
   "metadata": {},
   "outputs": [],
   "source": [
    "def rep_dict(doc, vectorizer, feat_names):\n",
    "    tmp_doc_vec = vectorizer.transform([doc])\n",
    "    result = {'%s'.encode('utf-8') % (feat_names[col]):float('%.5f' % (tmp_doc_vec[0,col])) \n",
    "              for col in tmp_doc_vec[0,:].nonzero()[1]}\n",
    "    return result"
   ]
  },
  {
   "cell_type": "code",
   "execution_count": 100,
   "metadata": {},
   "outputs": [],
   "source": [
    "# Getting tfidf representation of items\n",
    "tfv = TfidfVectorizer(strip_accents='unicode',\n",
    "                      analyzer=\"word\", token_pattern=r'\\w{1,}',stop_words='english',\n",
    "                      decode_error='replace', encoding='utf-8',\n",
    "                      vocabulary=vocab)\n",
    "description   = content_data['title'].astype(str).str.cat(content_data['description'].astype(str), sep=' ')\n",
    "tfidf_matrix  = tfv.fit_transform(description.values.astype('U'))\n",
    "feature_names = tfv.get_feature_names()\n",
    "content_data['tfidf_title_plot']  = description.apply(lambda x : rep_dict(x, tfv, feature_names))"
   ]
  },
  {
   "cell_type": "code",
   "execution_count": 101,
   "metadata": {},
   "outputs": [
    {
     "data": {
      "text/html": [
       "<div>\n",
       "<style scoped>\n",
       "    .dataframe tbody tr th:only-of-type {\n",
       "        vertical-align: middle;\n",
       "    }\n",
       "\n",
       "    .dataframe tbody tr th {\n",
       "        vertical-align: top;\n",
       "    }\n",
       "\n",
       "    .dataframe thead th {\n",
       "        text-align: right;\n",
       "    }\n",
       "</style>\n",
       "<table border=\"1\" class=\"dataframe\">\n",
       "  <thead>\n",
       "    <tr style=\"text-align: right;\">\n",
       "      <th></th>\n",
       "      <th>description</th>\n",
       "      <th>title</th>\n",
       "      <th>id</th>\n",
       "      <th>tfidf_title_plot</th>\n",
       "    </tr>\n",
       "  </thead>\n",
       "  <tbody>\n",
       "    <tr>\n",
       "      <th>0</th>\n",
       "      <td>Smile On Saturday @ Seasons Beauty\\nHappy Eart...</td>\n",
       "      <td>Rhodies - Happy Earth Day</td>\n",
       "      <td>33390536153</td>\n",
       "      <td>{u'beauty': 0.3152, u'smile': 0.37889, u'seaso...</td>\n",
       "    </tr>\n",
       "    <tr>\n",
       "      <th>2</th>\n",
       "      <td>No Extra-Terrestrials here, just  some broken ...</td>\n",
       "      <td>Alien Ship Crash Landing</td>\n",
       "      <td>33153645404</td>\n",
       "      <td>{u'just': 0.20408, u'shells': 0.45652, u'harbo...</td>\n",
       "    </tr>\n",
       "    <tr>\n",
       "      <th>12</th>\n",
       "      <td>A &amp;quot;scrabbled&amp;quot; egg in the morning wit...</td>\n",
       "      <td>Scrabbled Egg</td>\n",
       "      <td>32473555623</td>\n",
       "      <td>{u'week': 0.14652, u'quot': 0.19863, u'macro':...</td>\n",
       "    </tr>\n",
       "    <tr>\n",
       "      <th>14</th>\n",
       "      <td>I found a bag of these very small clothespins ...</td>\n",
       "      <td>7DWF- Teeny Tiny Clothespins</td>\n",
       "      <td>32691370250</td>\n",
       "      <td>{u'good': 0.16571, u'days': 0.17544, u'tiny': ...</td>\n",
       "    </tr>\n",
       "    <tr>\n",
       "      <th>20</th>\n",
       "      <td>Another image from this past weekend exploring...</td>\n",
       "      <td>Cosmic Post Office</td>\n",
       "      <td>10068538465</td>\n",
       "      <td>{u'heavy': 0.22137, u'past': 0.2043, u'clouds'...</td>\n",
       "    </tr>\n",
       "  </tbody>\n",
       "</table>\n",
       "</div>"
      ],
      "text/plain": [
       "                                          description  \\\n",
       "0   Smile On Saturday @ Seasons Beauty\\nHappy Eart...   \n",
       "2   No Extra-Terrestrials here, just  some broken ...   \n",
       "12  A &quot;scrabbled&quot; egg in the morning wit...   \n",
       "14  I found a bag of these very small clothespins ...   \n",
       "20  Another image from this past weekend exploring...   \n",
       "\n",
       "                           title           id  \\\n",
       "0      Rhodies - Happy Earth Day  33390536153   \n",
       "2       Alien Ship Crash Landing  33153645404   \n",
       "12                 Scrabbled Egg  32473555623   \n",
       "14  7DWF- Teeny Tiny Clothespins  32691370250   \n",
       "20            Cosmic Post Office  10068538465   \n",
       "\n",
       "                                     tfidf_title_plot  \n",
       "0   {u'beauty': 0.3152, u'smile': 0.37889, u'seaso...  \n",
       "2   {u'just': 0.20408, u'shells': 0.45652, u'harbo...  \n",
       "12  {u'week': 0.14652, u'quot': 0.19863, u'macro':...  \n",
       "14  {u'good': 0.16571, u'days': 0.17544, u'tiny': ...  \n",
       "20  {u'heavy': 0.22137, u'past': 0.2043, u'clouds'...  "
      ]
     },
     "execution_count": 101,
     "metadata": {},
     "output_type": "execute_result"
    }
   ],
   "source": [
    "content_data.head()"
   ]
  },
  {
   "cell_type": "code",
   "execution_count": 102,
   "metadata": {},
   "outputs": [],
   "source": [
    "# Getting tf representation of items\n",
    "cfv = CountVectorizer(strip_accents='unicode',\n",
    "                      analyzer=\"word\", token_pattern=r'\\w{1,}',stop_words='english',\n",
    "                      decode_error='replace', encoding='utf-8',\n",
    "                      vocabulary=vocab)\n",
    "description = content_data['title'].astype(str).str.cat(content_data['description'].astype(str), sep=' ')\n",
    "tf_matrix  = tfv.fit_transform(description.values.astype('U'))\n",
    "feature_names = tfv.get_feature_names()\n",
    "content_data['tf_title_plot']  = description.apply(lambda x : rep_dict(x, cfv, feature_names))"
   ]
  },
  {
   "cell_type": "code",
   "execution_count": 103,
   "metadata": {},
   "outputs": [
    {
     "data": {
      "text/html": [
       "<div>\n",
       "<style scoped>\n",
       "    .dataframe tbody tr th:only-of-type {\n",
       "        vertical-align: middle;\n",
       "    }\n",
       "\n",
       "    .dataframe tbody tr th {\n",
       "        vertical-align: top;\n",
       "    }\n",
       "\n",
       "    .dataframe thead th {\n",
       "        text-align: right;\n",
       "    }\n",
       "</style>\n",
       "<table border=\"1\" class=\"dataframe\">\n",
       "  <thead>\n",
       "    <tr style=\"text-align: right;\">\n",
       "      <th></th>\n",
       "      <th>description</th>\n",
       "      <th>title</th>\n",
       "      <th>id</th>\n",
       "      <th>tfidf_title_plot</th>\n",
       "      <th>tf_title_plot</th>\n",
       "    </tr>\n",
       "  </thead>\n",
       "  <tbody>\n",
       "    <tr>\n",
       "      <th>0</th>\n",
       "      <td>Smile On Saturday @ Seasons Beauty\\nHappy Eart...</td>\n",
       "      <td>Rhodies - Happy Earth Day</td>\n",
       "      <td>33390536153</td>\n",
       "      <td>{u'beauty': 0.3152, u'smile': 0.37889, u'seaso...</td>\n",
       "      <td>{u'beauty': 1.0, u'seasons': 1.0, u'smile': 1....</td>\n",
       "    </tr>\n",
       "    <tr>\n",
       "      <th>2</th>\n",
       "      <td>No Extra-Terrestrials here, just  some broken ...</td>\n",
       "      <td>Alien Ship Crash Landing</td>\n",
       "      <td>33153645404</td>\n",
       "      <td>{u'just': 0.20408, u'shells': 0.45652, u'harbo...</td>\n",
       "      <td>{u'just': 1.0, u'shells': 1.0, u'harbor': 1.0,...</td>\n",
       "    </tr>\n",
       "    <tr>\n",
       "      <th>12</th>\n",
       "      <td>A &amp;quot;scrabbled&amp;quot; egg in the morning wit...</td>\n",
       "      <td>Scrabbled Egg</td>\n",
       "      <td>32473555623</td>\n",
       "      <td>{u'week': 0.14652, u'quot': 0.19863, u'macro':...</td>\n",
       "      <td>{u'week': 1.0, u'quot': 2.0, u'macro': 1.0, u'...</td>\n",
       "    </tr>\n",
       "    <tr>\n",
       "      <th>14</th>\n",
       "      <td>I found a bag of these very small clothespins ...</td>\n",
       "      <td>7DWF- Teeny Tiny Clothespins</td>\n",
       "      <td>32691370250</td>\n",
       "      <td>{u'good': 0.16571, u'days': 0.17544, u'tiny': ...</td>\n",
       "      <td>{u'good': 1.0, u'days': 1.0, u'tiny': 1.0, u'b...</td>\n",
       "    </tr>\n",
       "    <tr>\n",
       "      <th>20</th>\n",
       "      <td>Another image from this past weekend exploring...</td>\n",
       "      <td>Cosmic Post Office</td>\n",
       "      <td>10068538465</td>\n",
       "      <td>{u'heavy': 0.22137, u'past': 0.2043, u'clouds'...</td>\n",
       "      <td>{u'ghost': 1.0, u'past': 1.0, u'clouds': 1.0, ...</td>\n",
       "    </tr>\n",
       "  </tbody>\n",
       "</table>\n",
       "</div>"
      ],
      "text/plain": [
       "                                          description  \\\n",
       "0   Smile On Saturday @ Seasons Beauty\\nHappy Eart...   \n",
       "2   No Extra-Terrestrials here, just  some broken ...   \n",
       "12  A &quot;scrabbled&quot; egg in the morning wit...   \n",
       "14  I found a bag of these very small clothespins ...   \n",
       "20  Another image from this past weekend exploring...   \n",
       "\n",
       "                           title           id  \\\n",
       "0      Rhodies - Happy Earth Day  33390536153   \n",
       "2       Alien Ship Crash Landing  33153645404   \n",
       "12                 Scrabbled Egg  32473555623   \n",
       "14  7DWF- Teeny Tiny Clothespins  32691370250   \n",
       "20            Cosmic Post Office  10068538465   \n",
       "\n",
       "                                     tfidf_title_plot  \\\n",
       "0   {u'beauty': 0.3152, u'smile': 0.37889, u'seaso...   \n",
       "2   {u'just': 0.20408, u'shells': 0.45652, u'harbo...   \n",
       "12  {u'week': 0.14652, u'quot': 0.19863, u'macro':...   \n",
       "14  {u'good': 0.16571, u'days': 0.17544, u'tiny': ...   \n",
       "20  {u'heavy': 0.22137, u'past': 0.2043, u'clouds'...   \n",
       "\n",
       "                                        tf_title_plot  \n",
       "0   {u'beauty': 1.0, u'seasons': 1.0, u'smile': 1....  \n",
       "2   {u'just': 1.0, u'shells': 1.0, u'harbor': 1.0,...  \n",
       "12  {u'week': 1.0, u'quot': 2.0, u'macro': 1.0, u'...  \n",
       "14  {u'good': 1.0, u'days': 1.0, u'tiny': 1.0, u'b...  \n",
       "20  {u'ghost': 1.0, u'past': 1.0, u'clouds': 1.0, ...  "
      ]
     },
     "execution_count": 103,
     "metadata": {},
     "output_type": "execute_result"
    }
   ],
   "source": [
    "content_data.head()"
   ]
  },
  {
   "cell_type": "code",
   "execution_count": 104,
   "metadata": {},
   "outputs": [],
   "source": [
    "# dump textual representations\n",
    "content_data.to_csv(os.path.join(DATA_DIR, output_dir, 'tf_title_plot.csv'), \n",
    "                    columns=['id', 'tf_title_plot'], index=False)\n",
    "content_data.to_csv(os.path.join(DATA_DIR, output_dir, 'tfidf_title_plot.csv'), \n",
    "                    columns=['id', 'tfidf_title_plot'], index=False)"
   ]
  },
  {
   "cell_type": "markdown",
   "metadata": {},
   "source": [
    "## Checking if there is content for all items in train, validation, and test sets"
   ]
  },
  {
   "cell_type": "code",
   "execution_count": 105,
   "metadata": {},
   "outputs": [],
   "source": [
    "a = set(valid_content_movie_ids)\n",
    "b = set(pd.unique(train_raw_data['pictureID']))\n",
    "c = set(pd.unique(val_raw_data['pictureID']))\n",
    "d = set(pd.unique(test_raw_data['pictureID']))"
   ]
  },
  {
   "cell_type": "code",
   "execution_count": 106,
   "metadata": {},
   "outputs": [],
   "source": [
    "print len(b.difference(a))\n",
    "print len(c.difference(a))\n",
    "print len(d.difference(a))"
   ]
  },
  {
   "cell_type": "markdown",
   "metadata": {},
   "source": [
    "Ok, we have all descriptions that we need!"
   ]
  },
  {
   "cell_type": "markdown",
   "metadata": {},
   "source": [
    "## After filtering, we have a dataset with these numbers:"
   ]
  },
  {
   "cell_type": "code",
   "execution_count": 109,
   "metadata": {},
   "outputs": [],
   "source": [
    "num_users   = len(pd.unique(raw_processed_data['userID']))\n",
    "num_items   = len(pd.unique(raw_processed_data['pictureID']))\n",
    "num_ratings = raw_processed_data['title'].shape[0]\n",
    "sparsity    = 1. * raw_processed_data.shape[0] / (num_users * num_items)\n",
    "print '#users %s #items %s #ratings %s (sparsity: %.3f)' % (num_users, num_items, num_ratings, sparsity)"
   ]
  },
  {
   "cell_type": "code",
   "execution_count": 110,
   "metadata": {},
   "outputs": [
    {
     "data": {
      "text/plain": [
       "(91530, 25428, 10749427, 0.004618592538524252)"
      ]
     },
     "execution_count": 110,
     "metadata": {},
     "output_type": "execute_result"
    }
   ],
   "source": [
    "(num_users, num_items, num_ratings, sparsity)"
   ]
  },
  {
   "cell_type": "code",
   "execution_count": 2,
   "metadata": {},
   "outputs": [],
   "source": [
    "#Done"
   ]
  }
 ],
 "metadata": {
  "kernelspec": {
   "display_name": "Python 2",
   "language": "python",
   "name": "python2"
  },
  "language_info": {
   "codemirror_mode": {
    "name": "ipython",
    "version": 2
   },
   "file_extension": ".py",
   "mimetype": "text/x-python",
   "name": "python",
   "nbconvert_exporter": "python",
   "pygments_lexer": "ipython2",
   "version": "2.7.12"
  }
 },
 "nbformat": 4,
 "nbformat_minor": 1
}
