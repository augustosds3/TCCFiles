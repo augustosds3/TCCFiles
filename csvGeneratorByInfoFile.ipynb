{
 "cells": [
  {
   "cell_type": "code",
   "execution_count": 156,
   "metadata": {},
   "outputs": [],
   "source": [
    "#coding: utf-8\n",
    "from __future__ import unicode_literals\n",
    "import flickr_api as f\n",
    "import sys\n",
    "import time\n",
    "import datetime\n",
    "import dill\n",
    "import json\n",
    "import gzip\n",
    "import os\n",
    "import csv"
   ]
  },
  {
   "cell_type": "code",
   "execution_count": 157,
   "metadata": {
    "scrolled": false
   },
   "outputs": [],
   "source": [
    "path = 'info/'\n",
    "pathFiles = path+'fotos/'\n",
    "files = os.listdir(pathFiles)\n",
    "infoFotos = []\n",
    "failedInfos=[]\n",
    "\n",
    "for file in files:\n",
    "    try:\n",
    "        handle = gzip.open(pathFiles+files[i], 'rb')\n",
    "        infoFotos += dill.load(handle)\n",
    "        handle.close()\n",
    "    except (EOFError, RuntimeError) as error:\n",
    "        failedInfos+=file\n",
    "        continue"
   ]
  },
  {
   "cell_type": "code",
   "execution_count": 158,
   "metadata": {},
   "outputs": [
    {
     "data": {
      "text/plain": [
       "209160"
      ]
     },
     "execution_count": 158,
     "metadata": {},
     "output_type": "execute_result"
    }
   ],
   "source": [
    "len(infoFotos)"
   ]
  },
  {
   "cell_type": "code",
   "execution_count": 159,
   "metadata": {},
   "outputs": [
    {
     "data": {
      "text/plain": [
       "0"
      ]
     },
     "execution_count": 159,
     "metadata": {},
     "output_type": "execute_result"
    }
   ],
   "source": [
    "len(failedInfos)"
   ]
  },
  {
   "cell_type": "code",
   "execution_count": 160,
   "metadata": {},
   "outputs": [],
   "source": [
    "keys = infoFotos[0].keys()"
   ]
  },
  {
   "cell_type": "code",
   "execution_count": 161,
   "metadata": {},
   "outputs": [],
   "source": [
    "specificKeys = ['description','title', 'views', 'ownerId', 'id', 'tags']"
   ]
  },
  {
   "cell_type": "code",
   "execution_count": 162,
   "metadata": {},
   "outputs": [],
   "source": [
    "specificInfos = [dict((k,d[k]) for k in specificKeys) for d in infoFotos]"
   ]
  },
  {
   "cell_type": "code",
   "execution_count": 163,
   "metadata": {},
   "outputs": [
    {
     "data": {
      "text/plain": [
       "209160"
      ]
     },
     "execution_count": 163,
     "metadata": {},
     "output_type": "execute_result"
    }
   ],
   "source": [
    "len(specificInfos)"
   ]
  },
  {
   "cell_type": "code",
   "execution_count": 164,
   "metadata": {
    "scrolled": true
   },
   "outputs": [],
   "source": [
    "for item in specificInfos:\n",
    "    for key, value in item.iteritems():\n",
    "        if (not isinstance(value,list)):\n",
    "            item[key] = unicode(value).encode('utf-8')"
   ]
  },
  {
   "cell_type": "code",
   "execution_count": 165,
   "metadata": {},
   "outputs": [],
   "source": [
    "with open('inputInfosFinal.csv', 'wb') as myfile:\n",
    "    dict_writer = csv.DictWriter(myfile, specificKeys)\n",
    "    dict_writer.writeheader()\n",
    "    dict_writer.writerows(specificInfos)"
   ]
  }
 ],
 "metadata": {
  "kernelspec": {
   "display_name": "Python 2",
   "language": "python",
   "name": "python2"
  },
  "language_info": {
   "codemirror_mode": {
    "name": "ipython",
    "version": 2
   },
   "file_extension": ".py",
   "mimetype": "text/x-python",
   "name": "python",
   "nbconvert_exporter": "python",
   "pygments_lexer": "ipython2",
   "version": "2.7.12"
  }
 },
 "nbformat": 4,
 "nbformat_minor": 2
}
